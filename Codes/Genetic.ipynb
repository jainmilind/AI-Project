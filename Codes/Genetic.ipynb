{
 "cells": [
  {
   "attachments": {},
   "cell_type": "markdown",
   "metadata": {},
   "source": [
    "### Importing necessary libraries"
   ]
  },
  {
   "cell_type": "code",
   "execution_count": 1,
   "metadata": {},
   "outputs": [],
   "source": [
    "import numpy as np\n",
    "from sklearn.datasets import load_breast_cancer\n",
    "from sklearn.neighbors import KNeighborsClassifier\n",
    "import matplotlib.pyplot as plt"
   ]
  },
  {
   "attachments": {},
   "cell_type": "markdown",
   "metadata": {},
   "source": [
    "### Load breast cancer dataset"
   ]
  },
  {
   "cell_type": "code",
   "execution_count": 2,
   "metadata": {},
   "outputs": [],
   "source": [
    "breast_cancer = load_breast_cancer()\n",
    "feature_names = breast_cancer.feature_names\n",
    "X = breast_cancer.data\n",
    "y = breast_cancer.target"
   ]
  },
  {
   "attachments": {},
   "cell_type": "markdown",
   "metadata": {},
   "source": [
    "### Define fitness function"
   ]
  },
  {
   "cell_type": "code",
   "execution_count": 3,
   "metadata": {},
   "outputs": [],
   "source": [
    "def predict_accuracy(individual):\n",
    "    # Extract features\n",
    "    features = []\n",
    "    for i in range(len(individual)):\n",
    "        if individual[i]:\n",
    "            features.append(i)\n",
    "    if len(features) == 0:\n",
    "        return 0\n",
    "    # Train KNN classifier\n",
    "    knn = KNeighborsClassifier(n_neighbors=5)\n",
    "    knn.fit(X[:, features], y)\n",
    "    # Calculate accuracy\n",
    "    accuracy = knn.score(X[:, features], y)\n",
    "    return accuracy\n"
   ]
  },
  {
   "attachments": {},
   "cell_type": "markdown",
   "metadata": {},
   "source": [
    "### Define plotting fitness"
   ]
  },
  {
   "cell_type": "code",
   "execution_count": 4,
   "metadata": {},
   "outputs": [],
   "source": [
    "def plot_fitness(fitness_scores):\n",
    "    x = [i + 1 for i in range(len(fitness_scores))]\n",
    "    y = fitness_scores\n",
    "\n",
    "    plt.plot(x, y)\n",
    "    plt.xlabel('Generation')\n",
    "    plt.ylabel('Fitness')\n",
    "    plt.title('Generation Vs Best Population Fitness')\n",
    "    plt.show()"
   ]
  },
  {
   "attachments": {},
   "cell_type": "markdown",
   "metadata": {},
   "source": [
    "### Define genetic algorithm"
   ]
  },
  {
   "cell_type": "code",
   "execution_count": 5,
   "metadata": {},
   "outputs": [],
   "source": [
    "def genetic_algorithm(pop_size, num_generations, mutation_rate):\n",
    "\n",
    "    # Tells fitness scores of best population in each generation\n",
    "    best_fitness = list()\n",
    "\n",
    "    # Initialize population\n",
    "    population = np.random.randint(2, size=(pop_size, X.shape[1]))\n",
    "\n",
    "    # Iterate through generations\n",
    "    for generation in range(num_generations):\n",
    "        # Calculate fitness scores\n",
    "        fitness_scores = np.array([predict_accuracy(individual) for individual in population])\n",
    "        \n",
    "        # Append accuracy of population with best fitness score in this generation\n",
    "        best_fitness.append(max(fitness_scores))\n",
    "\n",
    "        # Select parents\n",
    "        parent_indices = np.random.choice(pop_size, size=pop_size, replace=True, p=fitness_scores/fitness_scores.sum())\n",
    "        parents = population[parent_indices]\n",
    "        \n",
    "        # Create offspring\n",
    "        offspring = np.zeros_like(parents)\n",
    "        \n",
    "        for i in range(pop_size):\n",
    "            # Crossover\n",
    "            crossover_point = np.random.randint(X.shape[1])\n",
    "            offspring[i] = np.concatenate((parents[i, :crossover_point], parents[(i+1)%pop_size, crossover_point:]))\n",
    "            \n",
    "            # Mutation\n",
    "            for j in range(X.shape[1]):\n",
    "                if np.random.rand() < mutation_rate:\n",
    "                    offspring[i, j] = 1 - offspring[i, j]\n",
    "        \n",
    "        # Replace population with offspring\n",
    "        population = offspring\n",
    "    \n",
    "    # Calculate list of final fitness scores\n",
    "    fitness_scores = np.array([predict_accuracy(individual) for individual in population])\n",
    "    best_fitness.append(max(fitness_scores))\n",
    "    \n",
    "    plot_fitness(best_fitness)\n",
    "    # Return individual with highest fitness score\n",
    "    return population[np.argmax(fitness_scores)]\n"
   ]
  },
  {
   "attachments": {},
   "cell_type": "markdown",
   "metadata": {},
   "source": [
    "### Run genetic algorithm"
   ]
  },
  {
   "cell_type": "code",
   "execution_count": 6,
   "metadata": {},
   "outputs": [
    {
     "data": {
      "image/png": "[encoded data removed]",
      "text/plain": [
       "<Figure size 432x288 with 1 Axes>"
      ]
     },
     "metadata": {
      "needs_background": "light"
     },
     "output_type": "display_data"
    },
    {
     "name": "stdout",
     "output_type": "stream",
     "text": [
      "Best features: ['mean texture', 'mean perimeter', 'mean smoothness', 'mean compactness', 'mean concave points', 'mean symmetry', 'texture error', 'smoothness error', 'symmetry error', 'worst texture', 'worst perimeter', 'worst symmetry', 'worst fractal dimension']\n",
      "Accuracy: 95.96%\n"
     ]
    }
   ],
   "source": [
    "best_individual = genetic_algorithm(pop_size=100, num_generations=100, mutation_rate=0.006)\n",
    "best_features = list()\n",
    "\n",
    "for i in range(len(best_individual)):\n",
    "    if best_individual[i]:\n",
    "        best_features.append(i)\n",
    "\n",
    "print(f\"Best features: {[feature_names[i] for i in best_features]}\")\n",
    "\n",
    "knn = KNeighborsClassifier(n_neighbors=5)\n",
    "knn.fit(X[:, best_features], y)\n",
    "print(\"Accuracy: {:.2f}%\".format(knn.score(X[:, best_features], y)*100))"
   ]
  },
  {
   "attachments": {},
   "cell_type": "markdown",
   "metadata": {},
   "source": [
    "### As we can see that Fitness score majorly increases with generations although there are some mutations so sometimes fitness scores drops "
   ]
  },
  {
   "attachments": {},
   "cell_type": "markdown",
   "metadata": {},
   "source": [
    "### Using only KNN "
   ]
  },
  {
   "cell_type": "code",
   "execution_count": 9,
   "metadata": {},
   "outputs": [
    {
     "name": "stdout",
     "output_type": "stream",
     "text": [
      "Accuracy: 94.73%\n"
     ]
    }
   ],
   "source": [
    "knn = KNeighborsClassifier(n_neighbors=5)\n",
    "knn.fit(X, y)\n",
    "print(\"Accuracy: {:.2f}%\".format(knn.score(X, y) * 100))"
   ]
  },
  {
   "attachments": {},
   "cell_type": "markdown",
   "metadata": {},
   "source": [
    "### As we can see that KNN with Genetic algorithm gives a better accuracy than using only KNN"
   ]
  }
 ],
 "metadata": {
  "kernelspec": {
   "display_name": "Python 3",
   "language": "python",
   "name": "python3"
  },
  "language_info": {
   "codemirror_mode": {
    "name": "ipython",
    "version": 3
   },
   "file_extension": ".py",
   "mimetype": "text/x-python",
   "name": "python",
   "nbconvert_exporter": "python",
   "pygments_lexer": "ipython3",
   "version": "3.8.8"
  },
  "orig_nbformat": 4
 },
 "nbformat": 4,
 "nbformat_minor": 2
}
