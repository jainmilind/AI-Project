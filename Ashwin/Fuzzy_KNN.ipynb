{
 "cells": [
  {
   "attachments": {},
   "cell_type": "markdown",
   "metadata": {},
   "source": [
    "### A fuzzy-KNN Algorithm\n",
    "\n",
    "One major issue classification algorithms face while extracting rules are giving equal importance to every sample in the dataset. The paper “A Fuzzy K-Nearest Neighbor Algorithm” by James M. Keller, Michael R. Gray, and James A. Givens, JR. introduces the theory of fuzzy sets and incorporates the fuzzy search techniques into the KNN algorithm. The fuzzy algorithm outperforms the generic KNN in terms of mistake rate and holds up well against more conventional, complex pattern recognition techniques. \n",
    "</br> </br>\n",
    "The issue with the base KNN classifier is that each sample is given an equal weight. This creates issues in certain situations when sample sets overlap. Equal weight is given to typical vectors and the actual representatives of the cluster. Another issue is that when one of the vectors is classified, the membership strength cannot be determined. Hence the fuzzy set theory is introduced to combat all these issues"
   ]
  },
  {
   "cell_type": "code",
   "execution_count": 61,
   "metadata": {},
   "outputs": [],
   "source": [
    "import operator\n",
    "import warnings\n",
    "warnings.filterwarnings('ignore')\n",
    "import numpy as np\n",
    "import pandas as pd\n",
    "import sklearn\n",
    "from sklearn.datasets import load_breast_cancer\n",
    "from sklearn.metrics import accuracy_score\n",
    "from sklearn.base import BaseEstimator, ClassifierMixin\n",
    "from sklearn.model_selection import train_test_split\n",
    "from sklearn.neighbors import KNeighborsClassifier\n",
    "from datetime import datetime"
   ]
  },
  {
   "attachments": {},
   "cell_type": "markdown",
   "metadata": {},
   "source": [
    "### Load the dataset"
   ]
  },
  {
   "cell_type": "code",
   "execution_count": 62,
   "metadata": {},
   "outputs": [],
   "source": [
    "dataset = load_breast_cancer()\n",
    "x = dataset.data\n",
    "y = dataset.target"
   ]
  },
  {
   "attachments": {},
   "cell_type": "markdown",
   "metadata": {},
   "source": [
    "### Split the dataset into train and test"
   ]
  },
  {
   "cell_type": "code",
   "execution_count": 63,
   "metadata": {},
   "outputs": [],
   "source": [
    "x_train, x_test, y_train, y_test = sklearn.model_selection.train_test_split(x, y, random_state=56, test_size=0.3)"
   ]
  },
  {
   "attachments": {},
   "cell_type": "markdown",
   "metadata": {},
   "source": [
    "### Fuzzy KNN\n",
    "\n",
    "The fuzzy K-nearest neighbor algorithm assigns class membership to a sample vector rather than assigning the vector to a particular class. The advantage is that no arbitrary assignments are made by the algorithm. "
   ]
  },
  {
   "cell_type": "code",
   "execution_count": 64,
   "metadata": {},
   "outputs": [],
   "source": [
    "class FuzzyKNN(BaseEstimator, ClassifierMixin):\n",
    "    def __init__(self, k=3, plot=False):\n",
    "        self.k = k\n",
    "        self.plot = plot\n",
    "        \n",
    "        \n",
    "    def fit(self, X, y=None):\n",
    "        self.X = X\n",
    "        self.y = y\n",
    "        \n",
    "        self.xdim = len(self.X[0])\n",
    "        self.n = len(y)\n",
    "        #Initialize the classes which we have to predict\n",
    "        classes = list(set(y))\n",
    "        classes.sort()\n",
    "        self.classes = classes\n",
    "        #Create the dataframe \n",
    "        self.df = pd.DataFrame(self.X)\n",
    "        self.df['y'] = self.y\n",
    "        #Get the fuzzy memberships for all the data points\n",
    "        self.memberships = self._compute_memberships()\n",
    "        #Update the memberships for all the data points\n",
    "        self.df['membership'] = self.memberships\n",
    "        \n",
    "        self.fitted_ = True\n",
    "        return self\n",
    "    \n",
    "    \n",
    "    def predict(self, X):\n",
    "        if self.fitted_ == None:\n",
    "            raise Exception('predict() called before fit()')\n",
    "        y_pred = list()\n",
    "        \n",
    "        for x in X:\n",
    "            #get the k nearest neighbours\n",
    "            neighbors = self._find_k_nearest_neighbors(pd.DataFrame.copy(self.df), x)\n",
    "            \n",
    "            votes = dict()\n",
    "            for c in self.classes:\n",
    "                den = 0\n",
    "                 # We iterate over all the neighbours and find its distance from current point\n",
    "                for n in range(self.k):\n",
    "                    dist = np.linalg.norm(x - neighbors.iloc[n,0:self.xdim])\n",
    "                    den += 1 / (dist ** 2)\n",
    "                #Once the distance is computed, sum of vote of neighbour determines the predicted class\n",
    "                # each vote of a neighbour is calculated using the distance from point and the fuzzy membership of the predicted class \n",
    "                neighbors_votes = []\n",
    "                for n in range(self.k):\n",
    "                    dist = np.linalg.norm(x - neighbors.iloc[n,0:self.xdim])\n",
    "                    num = (neighbors.iloc[n].membership[c]) / (dist ** 2)\n",
    "                    \n",
    "                    vote = num/den\n",
    "                    neighbors_votes.append(vote)\n",
    "                votes[c] = np.sum(neighbors_votes)\n",
    "            #class with max votes is predicted   \n",
    "            pred = max(votes.items(), key=operator.itemgetter(1))[0]\n",
    "            y_pred.append((pred, votes))\n",
    "            \n",
    "        return y_pred\n",
    "\n",
    "    def _find_k_nearest_neighbors(self, df, x):\n",
    "         #find K nearest neighbours from point x (using euclidean distance)\n",
    "        X = df.iloc[:,0:self.xdim].values\n",
    "        df['distances'] = [np.linalg.norm(X[i] - x) for i in range(self.n)]\n",
    "        #Sort the points by distance for ease of computation later\n",
    "        df.sort_values(by='distances', ascending=True, inplace=True)\n",
    "        neighbors = df.iloc[0:self.k]\n",
    "        \n",
    "        return neighbors\n",
    "\n",
    "                \n",
    "    def _get_counts(self, neighbors):\n",
    "        groups = neighbors.groupby('y')\n",
    "        #Count of each class in neighbours as a dictionary which will be used for voting\n",
    "        counts = {group[1]['y'].iloc[0]:group[1].count()[0] for group in groups}\n",
    "        return counts\n",
    "        \n",
    "        \n",
    "    def _compute_memberships(self):\n",
    "        memberships = []\n",
    "        for i in range(self.n):\n",
    "            x = self.X[i]\n",
    "            y = self.y[i]\n",
    "            #Get the k nearest neighbours and counts of each classes\n",
    "            neighbors = self._find_k_nearest_neighbors(pd.DataFrame.copy(self.df), x)\n",
    "            counts = self._get_counts(neighbors)\n",
    "\n",
    "            #compute the membership of each class\n",
    "            membership = dict()\n",
    "            for c in self.classes:\n",
    "                try:\n",
    "                    #uci is the degree of membership of each vector in class 'classes'\n",
    "                    uci = 0.49 * (counts[c] / self.k)\n",
    "                    if c == y:\n",
    "                        uci += 0.51\n",
    "                    membership[c] = uci\n",
    "                except:\n",
    "                    #if no neighbours found\n",
    "                    membership[c] = 0\n",
    "                    \n",
    "            memberships.append(membership)\n",
    "        return memberships"
   ]
  },
  {
   "attachments": {},
   "cell_type": "markdown",
   "metadata": {},
   "source": [
    "### Comparing Fuzzy KNN with baseline KNN classifier"
   ]
  },
  {
   "cell_type": "code",
   "execution_count": 65,
   "metadata": {},
   "outputs": [],
   "source": [
    "analysis = {\n",
    "    'model' : list(),\n",
    "    'Training time' : list(),\n",
    "    'Prediction time' : list(),\n",
    "    'Accuracy' : list()\n",
    "}"
   ]
  },
  {
   "cell_type": "code",
   "execution_count": 66,
   "metadata": {},
   "outputs": [],
   "source": [
    "def add_classifier(d):\n",
    "    for i in analysis.keys():\n",
    "        analysis[i].append(d[i])"
   ]
  },
  {
   "cell_type": "code",
   "execution_count": 67,
   "metadata": {},
   "outputs": [
    {
     "name": "stdout",
     "output_type": "stream",
     "text": [
      "Accuracy: 0.9122807017543859\n"
     ]
    }
   ],
   "source": [
    "baseline_knn = {x : None for x in analysis.keys()}\n",
    "baseline_knn['model'] = 'Baseline KNN'\n",
    "knn = KNeighborsClassifier(n_neighbors=5)\n",
    "start_training_time = datetime.now()\n",
    "knn.fit(x_train, y_train)\n",
    "end_training_time = datetime.now()\n",
    "baseline_knn['Training time'] = (end_training_time - start_training_time).total_seconds()\n",
    "start_prediction_time = datetime.now()\n",
    "y_pred = knn.predict(x_test)\n",
    "end_prediction_time = datetime.now()\n",
    "baseline_knn['Prediction time'] = (end_prediction_time - start_prediction_time).total_seconds()\n",
    "accuracy = accuracy_score(y_test, y_pred)\n",
    "print(\"Accuracy:\", accuracy)\n",
    "baseline_knn['Accuracy'] = accuracy\n",
    "add_classifier(baseline_knn)\n"
   ]
  },
  {
   "cell_type": "code",
   "execution_count": 68,
   "metadata": {},
   "outputs": [
    {
     "name": "stdout",
     "output_type": "stream",
     "text": [
      "[(0, {0: 1.0, 1: 0.0}), (1, {0: 0.0, 1: 0.9999999999999999}), (1, {0: 0.0, 1: 1.0}), (1, {0: 0.0, 1: 1.0}), (0, {0: 0.974758057090137, 1: 0.025241942909863094}), (1, {0: 0.0, 1: 0.9999999999999999}), (1, {0: 0.0, 1: 1.0}), (1, {0: 0.1629551356975058, 1: 0.837044864302494}), (1, {0: 0.0, 1: 1.0}), (1, {0: 0.0, 1: 0.9999999999999999}), (1, {0: 0.0, 1: 1.0}), (1, {0: 0.21337711409128932, 1: 0.7866228859087109}), (0, {0: 1.0, 1: 0.0}), (1, {0: 0.0744241872608169, 1: 0.9255758127391833}), (0, {0: 1.0, 1: 0.0}), (1, {0: 0.0, 1: 0.9999999999999999}), (1, {0: 0.0, 1: 1.0}), (1, {0: 0.0, 1: 1.0000000000000002}), (0, {0: 1.0, 1: 0.0}), (1, {0: 0.01242821188944077, 1: 0.987571788110559}), (1, {0: 0.0, 1: 1.0000000000000002}), (1, {0: 0.0, 1: 1.0}), (1, {0: 0.42702919551415996, 1: 0.5729708044858401}), (1, {0: 0.0, 1: 0.9999999999999999}), (0, {0: 1.0, 1: 0.0}), (1, {0: 0.28509034805246003, 1: 0.7149096519475399}), (0, {0: 0.9999999999999999, 1: 0.0}), (1, {0: 0.0, 1: 1.0000000000000002}), (1, {0: 0.0, 1: 1.0}), (1, {0: 0.0, 1: 1.0}), (0, {0: 1.0, 1: 0.0}), (1, {0: 0.0, 1: 0.9999999999999999}), (1, {0: 0.0, 1: 1.0}), (1, {0: 0.0, 1: 1.0000000000000002}), (0, {0: 1.0, 1: 0.0}), (1, {0: 0.0, 1: 1.0}), (0, {0: 0.9410789815749628, 1: 0.058921018425037205}), (1, {0: 0.28546356573709114, 1: 0.7145364342629089}), (0, {0: 0.9869465978495507, 1: 0.013053402150449204}), (0, {0: 1.0, 1: 0.0}), (1, {0: 0.171043710360824, 1: 0.828956289639176}), (1, {0: 0.0, 1: 1.0}), (1, {0: 0.0, 1: 1.0}), (0, {0: 1.0, 1: 0.0}), (1, {0: 0.22143410667058958, 1: 0.7785658933294103}), (1, {0: 0.0, 1: 1.0}), (1, {0: 0.0, 1: 1.0}), (0, {0: 0.9882529550366985, 1: 0.011747044963301605}), (1, {0: 0.0, 1: 1.0}), (1, {0: 0.0, 1: 0.9999999999999998}), (1, {0: 0.0, 1: 0.9999999999999998}), (0, {0: 0.6993198668632086, 1: 0.3006801331367915}), (0, {0: 0.7854791965622545, 1: 0.2145208034377455}), (1, {0: 0.0, 1: 0.9999999999999998}), (0, {0: 0.9999999999999998, 1: 0.0}), (1, {0: 0.0, 1: 1.0}), (1, {0: 0.0, 1: 1.0}), (0, {0: 0.9455288028431114, 1: 0.05447119715688857}), (0, {0: 1.0000000000000002, 1: 0.0}), (1, {0: 0.01193095115892654, 1: 0.9880690488410734}), (1, {0: 0.0, 1: 0.9999999999999999}), (1, {0: 0.0, 1: 1.0}), (1, {0: 0.08286028496882726, 1: 0.9171397150311726}), (1, {0: 0.0, 1: 1.0}), (1, {0: 0.0, 1: 0.9999999999999998}), (0, {0: 1.0000000000000002, 1: 0.0}), (1, {0: 0.0, 1: 1.0}), (1, {0: 0.0, 1: 1.0}), (0, {0: 1.0, 1: 0.0}), (0, {0: 1.0000000000000002, 1: 0.0}), (1, {0: 0.11813422047622057, 1: 0.8818657795237793}), (1, {0: 0.0, 1: 1.0}), (0, {0: 0.9875118442448245, 1: 0.012488155755175595}), (0, {0: 1.0, 1: 0.0}), (1, {0: 0.0, 1: 0.9999999999999999}), (1, {0: 0.012816486315109536, 1: 0.9871835136848905}), (0, {0: 1.0, 1: 0.0}), (1, {0: 0.0, 1: 1.0}), (1, {0: 0.0232747853077642, 1: 0.9767252146922359}), (0, {0: 1.0, 1: 0.0}), (1, {0: 0.3481027813176276, 1: 0.6518972186823724}), (0, {0: 0.6553080076306328, 1: 0.3446919923693673}), (1, {0: 0.1876941990503242, 1: 0.812305800949676}), (0, {0: 0.9939332223809034, 1: 0.0060667776190965255}), (1, {0: 0.0, 1: 1.0}), (0, {0: 0.6033536318066224, 1: 0.39664636819337756}), (1, {0: 0.2524829969241858, 1: 0.7475170030758143}), (0, {0: 1.0, 1: 0.0}), (0, {0: 1.0, 1: 0.0}), (1, {0: 0.0, 1: 1.0}), (1, {0: 0.0, 1: 1.0}), (0, {0: 1.0, 1: 0.0}), (0, {0: 1.0, 1: 0.0}), (1, {0: 0.0, 1: 1.0}), (0, {0: 1.0000000000000002, 1: 0.0}), (1, {0: 0.0, 1: 0.9999999999999999}), (1, {0: 0.0, 1: 0.9999999999999999}), (1, {0: 0.0, 1: 1.0000000000000002}), (0, {0: 0.9252382969216042, 1: 0.07476170307839576}), (1, {0: 0.040918860162415124, 1: 0.9590811398375847}), (1, {0: 0.0, 1: 1.0}), (0, {0: 0.9999999999999999, 1: 0.0}), (0, {0: 1.0, 1: 0.0}), (0, {0: 0.9999999999999998, 1: 0.0}), (0, {0: 1.0000000000000002, 1: 0.0}), (1, {0: 0.4815098499962709, 1: 0.518490150003729}), (1, {0: 0.4826843201417206, 1: 0.5173156798582795}), (1, {0: 0.0, 1: 1.0}), (0, {0: 0.8415573347841679, 1: 0.158442665215832}), (1, {0: 0.0, 1: 1.0}), (0, {0: 0.5368456143252249, 1: 0.4631543856747752}), (1, {0: 0.028776707353894385, 1: 0.9712232926461057}), (0, {0: 1.0, 1: 0.0}), (0, {0: 1.0, 1: 0.0}), (0, {0: 1.0, 1: 0.0}), (0, {0: 0.9486996823907007, 1: 0.051300317609299394}), (1, {0: 0.0, 1: 1.0}), (1, {0: 0.0, 1: 1.0000000000000002}), (1, {0: 0.0, 1: 1.0}), (0, {0: 0.9999999999999999, 1: 0.0}), (1, {0: 0.01656530513254507, 1: 0.9834346948674547}), (1, {0: 0.0, 1: 0.9999999999999999}), (1, {0: 0.0, 1: 1.0}), (1, {0: 0.0, 1: 0.9999999999999999}), (0, {0: 1.0, 1: 0.0}), (0, {0: 1.0, 1: 0.0}), (0, {0: 1.0000000000000002, 1: 0.0}), (0, {0: 1.0, 1: 0.0}), (0, {0: 0.9999999999999999, 1: 0.0}), (1, {0: 0.0, 1: 1.0}), (0, {0: 0.9999999999999999, 1: 0.0}), (0, {0: 1.0000000000000002, 1: 0.0}), (1, {0: 0.0, 1: 1.0}), (1, {0: 0.0, 1: 1.0}), (0, {0: 0.9999999999999999, 1: 0.0}), (0, {0: 0.9999999999999998, 1: 0.0}), (1, {0: 0.0, 1: 1.0}), (1, {0: 0.0, 1: 1.0}), (0, {0: 1.0, 1: 0.0}), (1, {0: 0.13879625217592123, 1: 0.8612037478240787}), (0, {0: 1.0, 1: 0.0}), (1, {0: 0.0, 1: 1.0}), (0, {0: 0.9999999999999998, 1: 0.0}), (0, {0: 1.0, 1: 0.0}), (1, {0: 0.0, 1: 1.0}), (0, {0: 0.9999999999999999, 1: 0.0}), (1, {0: 0.042172264137391856, 1: 0.957827735862608}), (0, {0: 0.909845230179754, 1: 0.09015476982024576}), (1, {0: 0.0, 1: 0.9999999999999998}), (0, {0: 0.9912850511876424, 1: 0.008714948812357666}), (1, {0: 0.0, 1: 0.9999999999999999}), (1, {0: 0.0, 1: 0.9999999999999999}), (1, {0: 0.488491073135514, 1: 0.5115089268644862}), (1, {0: 0.2632607176795321, 1: 0.736739282320468}), (1, {0: 0.0, 1: 1.0}), (0, {0: 0.83377017401574, 1: 0.1662298259842599}), (0, {0: 1.0, 1: 0.0}), (0, {0: 0.9339047294260445, 1: 0.06609527057395533}), (1, {0: 0.0, 1: 0.9999999999999999}), (0, {0: 0.6087155108651031, 1: 0.3912844891348969}), (1, {0: 0.0, 1: 1.0}), (1, {0: 0.41072895062675496, 1: 0.5892710493732449}), (1, {0: 0.0, 1: 1.0}), (1, {0: 0.0, 1: 1.0}), (1, {0: 0.2058779108769384, 1: 0.7941220891230616}), (1, {0: 0.09996695819293261, 1: 0.9000330418070673}), (0, {0: 0.9999999999999998, 1: 0.0}), (1, {0: 0.0, 1: 0.9999999999999999}), (1, {0: 0.0, 1: 1.0}), (0, {0: 0.5692974812197752, 1: 0.43070251878022486}), (1, {0: 0.0, 1: 0.9999999999999999})]\n",
      "0.9239766081871345\n"
     ]
    }
   ],
   "source": [
    "fuzzyknn = FuzzyKNN(k = 5)\n",
    "fuzzy_knn_classifier = {x : None for x in analysis.keys()}\n",
    "fuzzy_knn_classifier['model'] = 'Fuzzy KNN'\n",
    "start_training_time = datetime.now()\n",
    "fuzzyknn.fit(x_train, y_train)\n",
    "end_training_time = datetime.now()\n",
    "fuzzy_knn_classifier['Training time'] = (end_training_time - start_training_time).total_seconds()\n",
    "\n",
    "start_prediction_time = datetime.now()\n",
    "y_pred = fuzzyknn.predict(x_test)\n",
    "end_prediction_time = datetime.now()\n",
    "fuzzy_knn_classifier['Prediction time'] = (end_prediction_time - start_prediction_time).total_seconds()\n",
    "\n",
    "print(y_pred)\n",
    "\n",
    "y_actual_pred = list()\n",
    "for (pred_class, fuzzy_membership_votes) in y_pred : \n",
    "    y_actual_pred.append(pred_class)\n",
    "score = accuracy_score(y_test, y_actual_pred)\n",
    "print(score)\n",
    "fuzzy_knn_classifier['Accuracy'] = score\n",
    "add_classifier(fuzzy_knn_classifier)\n"
   ]
  },
  {
   "attachments": {},
   "cell_type": "markdown",
   "metadata": {},
   "source": [
    "The y_pred depicts the tuple - (predicted_class, fuzzy_membership_votes)\n",
    "where predicted_class is the class predicted for the datapoint and fuzzy_membership_votes shows the votes given by each of the k nearest neighbour"
   ]
  },
  {
   "cell_type": "code",
   "execution_count": 69,
   "metadata": {},
   "outputs": [
    {
     "data": {
      "text/html": [
       "<div>\n",
       "<style scoped>\n",
       "    .dataframe tbody tr th:only-of-type {\n",
       "        vertical-align: middle;\n",
       "    }\n",
       "\n",
       "    .dataframe tbody tr th {\n",
       "        vertical-align: top;\n",
       "    }\n",
       "\n",
       "    .dataframe thead th {\n",
       "        text-align: right;\n",
       "    }\n",
       "</style>\n",
       "<table border=\"1\" class=\"dataframe\">\n",
       "  <thead>\n",
       "    <tr style=\"text-align: right;\">\n",
       "      <th></th>\n",
       "      <th>model</th>\n",
       "      <th>Training time</th>\n",
       "      <th>Prediction time</th>\n",
       "      <th>Accuracy</th>\n",
       "    </tr>\n",
       "  </thead>\n",
       "  <tbody>\n",
       "    <tr>\n",
       "      <th>0</th>\n",
       "      <td>Baseline KNN</td>\n",
       "      <td>0.000000</td>\n",
       "      <td>0.016011</td>\n",
       "      <td>0.912281</td>\n",
       "    </tr>\n",
       "    <tr>\n",
       "      <th>1</th>\n",
       "      <td>Fuzzy KNN</td>\n",
       "      <td>3.937506</td>\n",
       "      <td>2.397052</td>\n",
       "      <td>0.923977</td>\n",
       "    </tr>\n",
       "  </tbody>\n",
       "</table>\n",
       "</div>"
      ],
      "text/plain": [
       "          model  Training time  Prediction time  Accuracy\n",
       "0  Baseline KNN       0.000000         0.016011  0.912281\n",
       "1     Fuzzy KNN       3.937506         2.397052  0.923977"
      ]
     },
     "execution_count": 69,
     "metadata": {},
     "output_type": "execute_result"
    }
   ],
   "source": [
    "analysis_df = pd.DataFrame(analysis)\n",
    "analysis_df"
   ]
  }
 ],
 "metadata": {
  "kernelspec": {
   "display_name": "base",
   "language": "python",
   "name": "python3"
  },
  "language_info": {
   "codemirror_mode": {
    "name": "ipython",
    "version": 3
   },
   "file_extension": ".py",
   "mimetype": "text/x-python",
   "name": "python",
   "nbconvert_exporter": "python",
   "pygments_lexer": "ipython3",
   "version": "3.8.8"
  },
  "orig_nbformat": 4
 },
 "nbformat": 4,
 "nbformat_minor": 2
}
