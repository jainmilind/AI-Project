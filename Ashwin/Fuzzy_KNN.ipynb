{
 "cells": [
  {
   "attachments": {},
   "cell_type": "markdown",
   "metadata": {},
   "source": [
    "### A fuzzy-KNN Algorithm"
   ]
  },
  {
   "cell_type": "code",
   "execution_count": 89,
   "metadata": {},
   "outputs": [],
   "source": [
    "import operator\n",
    "import warnings\n",
    "warnings.filterwarnings('ignore')\n",
    "import numpy as np\n",
    "import pandas as pd\n",
    "import sklearn\n",
    "from sklearn.metrics import accuracy_score\n",
    "from sklearn.base import BaseEstimator, ClassifierMixin\n",
    "from datetime import datetime"
   ]
  },
  {
   "attachments": {},
   "cell_type": "markdown",
   "metadata": {},
   "source": [
    "### Load the dataset"
   ]
  },
  {
   "cell_type": "code",
   "execution_count": 90,
   "metadata": {},
   "outputs": [],
   "source": [
    "dataset = sklearn.datasets.load_iris()\n",
    "x = dataset.data\n",
    "y = dataset.target"
   ]
  },
  {
   "attachments": {},
   "cell_type": "markdown",
   "metadata": {},
   "source": [
    "### Split the dataset into train and test"
   ]
  },
  {
   "cell_type": "code",
   "execution_count": 91,
   "metadata": {},
   "outputs": [],
   "source": [
    "x_train, x_test, y_train, y_test = sklearn.model_selection.train_test_split(x, y, random_state=589)"
   ]
  },
  {
   "attachments": {},
   "cell_type": "markdown",
   "metadata": {},
   "source": [
    "### Fuzzy KNN"
   ]
  },
  {
   "cell_type": "code",
   "execution_count": 92,
   "metadata": {},
   "outputs": [],
   "source": [
    "class FuzzyKNN(BaseEstimator, ClassifierMixin):\n",
    "    def __init__(self, k=3, plot=False):\n",
    "        self.k = k\n",
    "        self.plot = plot\n",
    "        \n",
    "        \n",
    "    def fit(self, X, y=None):\n",
    "        self._check_params(X,y)\n",
    "        self.X = X\n",
    "        self.y = y\n",
    "        \n",
    "        self.xdim = len(self.X[0])\n",
    "        self.n = len(y)\n",
    "        \n",
    "        classes = list(set(y))\n",
    "        classes.sort()\n",
    "        self.classes = classes\n",
    "        \n",
    "        self.df = pd.DataFrame(self.X)\n",
    "        self.df['y'] = self.y\n",
    "        \n",
    "        self.memberships = self._compute_memberships()\n",
    "        \n",
    "        self.df['membership'] = self.memberships\n",
    "        \n",
    "        self.fitted_ = True\n",
    "        return self\n",
    "    \n",
    "    \n",
    "    def predict(self, X):\n",
    "        if self.fitted_ == None:\n",
    "            raise Exception('predict() called before fit()')\n",
    "        else:\n",
    "            m = 2\n",
    "            y_pred = []\n",
    "            \n",
    "            for x in X:\n",
    "                neighbors = self._find_k_nearest_neighbors(pd.DataFrame.copy(self.df), x)\n",
    "                \n",
    "                votes = {}\n",
    "                for c in self.classes:\n",
    "                    den = 0\n",
    "                    for n in range(self.k):\n",
    "                        dist = np.linalg.norm(x - neighbors.iloc[n,0:self.xdim])\n",
    "                        den += 1 / (dist ** (2 / (m-1)))\n",
    "                    \n",
    "                    neighbors_votes = []\n",
    "                    for n in range(self.k):\n",
    "                        dist = np.linalg.norm(x - neighbors.iloc[n,0:self.xdim])\n",
    "                        num = (neighbors.iloc[n].membership[c]) / (dist ** (2 / (m-1)))\n",
    "                        \n",
    "                        vote = num/den\n",
    "                        neighbors_votes.append(vote)\n",
    "                    votes[c] = np.sum(neighbors_votes)\n",
    "                    \n",
    "                pred = max(votes.items(), key=operator.itemgetter(1))[0]\n",
    "                y_pred.append((pred, votes))\n",
    "                \n",
    "            return y_pred\n",
    "        \n",
    "        \n",
    "    def score(self, X, y):\n",
    "        if self.fitted_ == None:\n",
    "            raise Exception('score() called before fit()')\n",
    "        else:\n",
    "            predictions = self.predict(X)\n",
    "            y_pred = [t[0] for t in predictions]\n",
    "            confidences = [t[1] for t in predictions]\n",
    "            \n",
    "            return accuracy_score(y_pred=y_pred, y_true=y)\n",
    "    \n",
    "        \n",
    "    def _find_k_nearest_neighbors(self, df, x):\n",
    "        X = df.iloc[:,0:self.xdim].values\n",
    "        \n",
    "        df['distances'] = [np.linalg.norm(X[i] - x) for i in range(self.n)]\n",
    "        \n",
    "        df.sort_values(by='distances', ascending=True, inplace=True)\n",
    "        neighbors = df.iloc[0:self.k]\n",
    "        \n",
    "        return neighbors\n",
    "\n",
    "                \n",
    "    def _get_counts(self, neighbors):\n",
    "        groups = neighbors.groupby('y')\n",
    "        counts = {group[1]['y'].iloc[0]:group[1].count()[0] for group in groups}\n",
    "        \n",
    "        return counts\n",
    "        \n",
    "        \n",
    "    def _compute_memberships(self):\n",
    "        memberships = []\n",
    "        for i in range(self.n):\n",
    "            x = self.X[i]\n",
    "            y = self.y[i]\n",
    "            \n",
    "            neighbors = self._find_k_nearest_neighbors(pd.DataFrame.copy(self.df), x)\n",
    "            counts = self._get_counts(neighbors)\n",
    "        \n",
    "            membership = dict()\n",
    "            for c in self.classes:\n",
    "                try:\n",
    "                    uci = 0.49 * (counts[c] / self.k)\n",
    "                    if c == y:\n",
    "                        uci += 0.51\n",
    "                    membership[c] = uci\n",
    "                except:\n",
    "                    membership[c] = 0\n",
    "                    \n",
    "            memberships.append(membership)\n",
    "        return memberships\n",
    "        \n",
    "        \n",
    "    def _check_params(self, X, y):\n",
    "        if type(self.k) != int:\n",
    "            raise Exception('\"k\" should have type int')\n",
    "        elif self.k >= len(y):\n",
    "            raise Exception('\"k\" should be less than no of feature sets')\n",
    "        elif self.k % 2 == 0:\n",
    "            raise Exception('\"k\" should be odd')\n",
    "            \n",
    "        if type(self.plot) != bool:\n",
    "            raise Exception('\"plot\" should have type bool')"
   ]
  },
  {
   "attachments": {},
   "cell_type": "markdown",
   "metadata": {},
   "source": [
    "### Comparing Fuzzy KNN with baseline KNN Classifier"
   ]
  },
  {
   "cell_type": "code",
   "execution_count": 93,
   "metadata": {},
   "outputs": [],
   "source": [
    "analysis = {\n",
    "    'model' : list(),\n",
    "    'Training time' : list(),\n",
    "    'Prediction time' : list(),\n",
    "}"
   ]
  },
  {
   "cell_type": "code",
   "execution_count": 94,
   "metadata": {},
   "outputs": [],
   "source": [
    "def add_classifier(d):\n",
    "    for i in analysis.keys():\n",
    "        analysis[i].append(d[i])"
   ]
  },
  {
   "cell_type": "code",
   "execution_count": 95,
   "metadata": {},
   "outputs": [
    {
     "name": "stdout",
     "output_type": "stream",
     "text": [
      "Cross Validation Score [0.75  0.75  0.875 1.    1.   ]\n"
     ]
    }
   ],
   "source": [
    "baseline = sklearn.neighbors.KNeighborsClassifier()\n",
    "baseline_classifier = {x : None for x in analysis.keys()}\n",
    "baseline_classifier['model'] = 'baseline KNN'\n",
    "start_training_time = datetime.now()\n",
    "baseline.fit(x_train, y_train)\n",
    "end_training_time = datetime.now()\n",
    "baseline_classifier['Training time'] = (end_training_time - start_training_time).total_seconds()\n",
    "\n",
    "start_prediction_time = datetime.now()\n",
    "base_score = sklearn.model_selection.cross_val_score(cv=5, estimator=baseline, X=x_test, y=y_test)\n",
    "end_prediction_time = datetime.now()\n",
    "baseline_classifier['Prediction time'] = (end_prediction_time - start_prediction_time).total_seconds()\n",
    "print(\"Cross Validation Score\" , base_score)\n",
    "add_classifier(baseline_classifier)"
   ]
  },
  {
   "cell_type": "code",
   "execution_count": 96,
   "metadata": {},
   "outputs": [
    {
     "name": "stdout",
     "output_type": "stream",
     "text": [
      "Cross Validation Score [0.75  0.75  0.875 1.    1.   ]\n"
     ]
    }
   ],
   "source": [
    "fuzzyknn = FuzzyKNN()\n",
    "fuzzy_knn_classifier = {x : None for x in analysis.keys()}\n",
    "fuzzy_knn_classifier['model'] = 'fuzzy KNN'\n",
    "start_training_time = datetime.now()\n",
    "fuzzyknn.fit(x_train, y_train)\n",
    "end_training_time = datetime.now()\n",
    "fuzzy_knn_classifier['Training time'] = (end_training_time - start_training_time).total_seconds()\n",
    "\n",
    "start_prediction_time = datetime.now()\n",
    "fuzzy_score = sklearn.model_selection.cross_val_score(cv=5, estimator=fuzzyknn, X=x_test, y=y_test)\n",
    "end_prediction_time = datetime.now()\n",
    "fuzzy_knn_classifier['Prediction time'] = (end_prediction_time - start_prediction_time).total_seconds()\n",
    "print(\"Cross Validation Score\" , base_score)\n",
    "add_classifier(fuzzy_knn_classifier)"
   ]
  },
  {
   "cell_type": "code",
   "execution_count": 97,
   "metadata": {},
   "outputs": [
    {
     "data": {
      "text/html": [
       "<div>\n",
       "<style scoped>\n",
       "    .dataframe tbody tr th:only-of-type {\n",
       "        vertical-align: middle;\n",
       "    }\n",
       "\n",
       "    .dataframe tbody tr th {\n",
       "        vertical-align: top;\n",
       "    }\n",
       "\n",
       "    .dataframe thead th {\n",
       "        text-align: right;\n",
       "    }\n",
       "</style>\n",
       "<table border=\"1\" class=\"dataframe\">\n",
       "  <thead>\n",
       "    <tr style=\"text-align: right;\">\n",
       "      <th></th>\n",
       "      <th>model</th>\n",
       "      <th>Training time</th>\n",
       "      <th>Prediction time</th>\n",
       "    </tr>\n",
       "  </thead>\n",
       "  <tbody>\n",
       "    <tr>\n",
       "      <th>0</th>\n",
       "      <td>baseline KNN</td>\n",
       "      <td>0.001999</td>\n",
       "      <td>0.012009</td>\n",
       "    </tr>\n",
       "    <tr>\n",
       "      <th>1</th>\n",
       "      <td>fuzzy KNN</td>\n",
       "      <td>0.419087</td>\n",
       "      <td>0.890228</td>\n",
       "    </tr>\n",
       "  </tbody>\n",
       "</table>\n",
       "</div>"
      ],
      "text/plain": [
       "          model  Training time  Prediction time\n",
       "0  baseline KNN       0.001999         0.012009\n",
       "1     fuzzy KNN       0.419087         0.890228"
      ]
     },
     "execution_count": 97,
     "metadata": {},
     "output_type": "execute_result"
    }
   ],
   "source": [
    "pd.DataFrame(analysis)"
   ]
  }
 ],
 "metadata": {
  "kernelspec": {
   "display_name": "base",
   "language": "python",
   "name": "python3"
  },
  "language_info": {
   "codemirror_mode": {
    "name": "ipython",
    "version": 3
   },
   "file_extension": ".py",
   "mimetype": "text/x-python",
   "name": "python",
   "nbconvert_exporter": "python",
   "pygments_lexer": "ipython3",
   "version": "3.8.8"
  },
  "orig_nbformat": 4
 },
 "nbformat": 4,
 "nbformat_minor": 2
}
