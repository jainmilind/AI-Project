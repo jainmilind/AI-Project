{
 "cells": [
  {
   "attachments": {},
   "cell_type": "markdown",
   "metadata": {},
   "source": [
    "### A fuzzy-KNN Algorithm\n",
    "\n",
    "One major issue classification algorithms face while extracting rules are giving equal importance to every sample in the dataset. The paper “A Fuzzy K-Nearest Neighbor Algorithm” by James M. Keller, Michael R. Gray, and James A. Givens, JR. introduces the theory of fuzzy sets and incorporates the fuzzy search techniques into the KNN algorithm. The fuzzy algorithm outperforms the generic KNN in terms of mistake rate and holds up well against more conventional, complex pattern recognition techniques. \n",
    "</br> </br>\n",
    "The issue with the base KNN classifier is that each sample is given an equal weight. This creates issues in certain situations when sample sets overlap. Equal weight is given to typical vectors and the actual representatives of the cluster. Another issue is that when one of the vectors is classified, the membership strength cannot be determined. Hence the fuzzy set theory is introduced to combat all these issues"
   ]
  },
  {
   "cell_type": "code",
   "execution_count": 528,
   "metadata": {},
   "outputs": [],
   "source": [
    "import operator\n",
    "import warnings\n",
    "warnings.filterwarnings('ignore')\n",
    "import numpy as np\n",
    "import pandas as pd\n",
    "import sklearn\n",
    "from sklearn.datasets import load_iris\n",
    "from sklearn.metrics import accuracy_score\n",
    "from sklearn.base import BaseEstimator, ClassifierMixin\n",
    "from sklearn.model_selection import train_test_split\n",
    "from sklearn.neighbors import KNeighborsClassifier\n",
    "from datetime import datetime"
   ]
  },
  {
   "attachments": {},
   "cell_type": "markdown",
   "metadata": {},
   "source": [
    "### Load the dataset"
   ]
  },
  {
   "cell_type": "code",
   "execution_count": 529,
   "metadata": {},
   "outputs": [],
   "source": [
    "dataset = load_iris()\n",
    "x = dataset.data\n",
    "y = dataset.target"
   ]
  },
  {
   "attachments": {},
   "cell_type": "markdown",
   "metadata": {},
   "source": [
    "### Split the dataset into train and test"
   ]
  },
  {
   "cell_type": "code",
   "execution_count": 530,
   "metadata": {},
   "outputs": [],
   "source": [
    "x_train, x_test, y_train, y_test = sklearn.model_selection.train_test_split(x, y, random_state=56, test_size=0.3)"
   ]
  },
  {
   "attachments": {},
   "cell_type": "markdown",
   "metadata": {},
   "source": [
    "### Fuzzy KNN\n",
    "\n",
    "The fuzzy K-nearest neighbor algorithm assigns class membership to a sample vector rather than assigning the vector to a particular class. The advantage is that no arbitrary assignments are made by the algorithm. "
   ]
  },
  {
   "cell_type": "code",
   "execution_count": 531,
   "metadata": {},
   "outputs": [],
   "source": [
    "class FuzzyKNN(BaseEstimator, ClassifierMixin):\n",
    "    def __init__(self, k=3, plot=False):\n",
    "        self.k = k\n",
    "        self.plot = plot\n",
    "        \n",
    "        \n",
    "    def fit(self, X, y=None):\n",
    "        self.X = X\n",
    "        self.y = y\n",
    "        \n",
    "        self.xdim = len(self.X[0])\n",
    "        self.n = len(y)\n",
    "        #Initialize the classes which we have to predict\n",
    "        classes = list(set(y))\n",
    "        classes.sort()\n",
    "        self.classes = classes\n",
    "        #Create the dataframe \n",
    "        self.df = pd.DataFrame(self.X)\n",
    "        self.df['y'] = self.y\n",
    "        #Get the fuzzy memberships for all the data points\n",
    "        self.memberships = self._compute_memberships()\n",
    "        #Update the memberships for all the data points\n",
    "        self.df['membership'] = self.memberships\n",
    "        \n",
    "        self.fitted_ = True\n",
    "        return self\n",
    "    \n",
    "    \n",
    "    def predict(self, X):\n",
    "        if self.fitted_ == None:\n",
    "            raise Exception('predict() called before fit()')\n",
    "        y_pred = list()\n",
    "        \n",
    "        for x in X:\n",
    "            #get the k nearest neighbours\n",
    "            neighbors = self._find_k_nearest_neighbors(pd.DataFrame.copy(self.df), x)\n",
    "            \n",
    "            votes = dict()\n",
    "            for c in self.classes:\n",
    "                den = 0\n",
    "                 # We iterate over all the neighbours and find its distance from current point\n",
    "                for n in range(self.k):\n",
    "                    dist = np.linalg.norm(x - neighbors.iloc[n,0:self.xdim])\n",
    "                    den += 1 / (dist ** 2)\n",
    "                #Once the distance is computed, sum of vote of neighbour determines the predicted class\n",
    "                # each vote of a neighbour is calculated using the distance from point and the fuzzy membership of the predicted class \n",
    "                neighbors_votes = []\n",
    "                for n in range(self.k):\n",
    "                    dist = np.linalg.norm(x - neighbors.iloc[n,0:self.xdim])\n",
    "                    num = (neighbors.iloc[n].membership[c]) / (dist ** 2)\n",
    "                    \n",
    "                    vote = num/den\n",
    "                    neighbors_votes.append(vote)\n",
    "                votes[c] = np.sum(neighbors_votes)\n",
    "            #class with max votes is predicted   \n",
    "            pred = max(votes.items(), key=operator.itemgetter(1))[0]\n",
    "            y_pred.append((pred, votes))\n",
    "            \n",
    "        return y_pred\n",
    "\n",
    "    def _find_k_nearest_neighbors(self, df, x):\n",
    "         #find K nearest neighbours from point x (using euclidean distance)\n",
    "        X = df.iloc[:,0:self.xdim].values\n",
    "        df['distances'] = [np.linalg.norm(X[i] - x) for i in range(self.n)]\n",
    "        #Sort the points by distance for ease of computation later\n",
    "        df.sort_values(by='distances', ascending=True, inplace=True)\n",
    "        neighbors = df.iloc[0:self.k]\n",
    "        \n",
    "        return neighbors\n",
    "\n",
    "                \n",
    "    def _get_counts(self, neighbors):\n",
    "        groups = neighbors.groupby('y')\n",
    "        #Count of each class in neighbours as a dictionary which will be used for voting\n",
    "        counts = {group[1]['y'].iloc[0]:group[1].count()[0] for group in groups}\n",
    "        return counts\n",
    "        \n",
    "        \n",
    "    def _compute_memberships(self):\n",
    "        memberships = []\n",
    "        for i in range(self.n):\n",
    "            x = self.X[i]\n",
    "            y = self.y[i]\n",
    "            #Get the k nearest neighbours and counts of each classes\n",
    "            neighbors = self._find_k_nearest_neighbors(pd.DataFrame.copy(self.df), x)\n",
    "            counts = self._get_counts(neighbors)\n",
    "\n",
    "            #compute the membership of each class\n",
    "            membership = dict()\n",
    "            for c in self.classes:\n",
    "                try:\n",
    "                    #uci is the degree of membership of each vector in class 'classes'\n",
    "                    uci = 0.49 * (counts[c] / self.k)\n",
    "                    if c == y:\n",
    "                        uci += 0.51\n",
    "                    membership[c] = uci\n",
    "                except:\n",
    "                    #if no neighbours found\n",
    "                    membership[c] = 0\n",
    "                    \n",
    "            memberships.append(membership)\n",
    "        return memberships"
   ]
  },
  {
   "attachments": {},
   "cell_type": "markdown",
   "metadata": {},
   "source": [
    "### Comparing Fuzzy KNN with various values of K"
   ]
  },
  {
   "cell_type": "code",
   "execution_count": 532,
   "metadata": {},
   "outputs": [],
   "source": [
    "analysis = {\n",
    "    'K' : list(),\n",
    "    'Training time' : list(),\n",
    "    'Prediction time' : list(),\n",
    "    'Accuracy' : list(),\n",
    "    'AOC' : list()\n",
    "}"
   ]
  },
  {
   "cell_type": "code",
   "execution_count": 533,
   "metadata": {},
   "outputs": [],
   "source": [
    "def add_classifier(d):\n",
    "    for i in analysis.keys():\n",
    "        analysis[i].append(d[i])"
   ]
  },
  {
   "attachments": {},
   "cell_type": "markdown",
   "metadata": {},
   "source": [
    "### K = 5"
   ]
  },
  {
   "cell_type": "code",
   "execution_count": 534,
   "metadata": {},
   "outputs": [
    {
     "name": "stdout",
     "output_type": "stream",
     "text": [
      "[(2, {0: 0.0, 1: 0.0, 2: 0.9999999999999999}), (1, {0: 0.0, 1: 1.0, 2: 0.0}), (1, {0: 0.0, 1: 0.526164956726085, 2: 0.4738350432739151}), (2, {0: 0.0, 1: 0.0, 2: 1.0}), (2, {0: 0.0, 1: 0.0, 2: 1.0}), (2, {0: 0.0, 1: 0.0, 2: 1.0}), (2, {0: 0.0, 1: 0.0, 2: 1.0000000000000002}), (0, {0: 0.9999999999999999, 1: 0.0, 2: 0.0}), (0, {0: 0.9999999999999999, 1: 0.0, 2: 0.0}), (2, {0: 0.0, 1: 0.053481259370314796, 2: 0.9465187406296854}), (1, {0: 0.0, 1: 1.0000000000000002, 2: 0.0}), (0, {0: 1.0000000000000002, 1: 0.0, 2: 0.0}), (0, {0: 1.0, 1: 0.0, 2: 0.0}), (0, {0: 1.0, 1: 0.0, 2: 0.0}), (2, {0: 0.0, 1: 0.0, 2: 1.0}), (0, {0: 1.0, 1: 0.0, 2: 0.0}), (0, {0: 0.9999999999999999, 1: 0.0, 2: 0.0}), (0, {0: 1.0, 1: 0.0, 2: 0.0}), (2, {0: 0.0, 1: 0.0, 2: 0.9999999999999999}), (1, {0: 0.0, 1: 1.0, 2: 0.0}), (0, {0: 1.0, 1: 0.0, 2: 0.0}), (2, {0: 0.0, 1: 0.0, 2: 1.0}), (1, {0: 0.0, 1: 0.9999999999999999, 2: 0.0}), (1, {0: 0.0, 1: 0.7723026356276801, 2: 0.22769736437231985}), (0, {0: 0.9999999999999998, 1: 0.0, 2: 0.0}), (2, {0: 0.0, 1: 0.0, 2: 1.0}), (2, {0: 0.0, 1: 0.0, 2: 0.9999999999999999}), (1, {0: 0.0, 1: 0.7366461538461538, 2: 0.26335384615384627}), (1, {0: 0.0, 1: 0.9999999999999999, 2: 0.0}), (1, {0: 0.0, 1: 1.0000000000000002, 2: 0.0}), (2, {0: 0.0, 1: 0.0, 2: 1.0}), (0, {0: nan, 1: nan, 2: nan}), (2, {0: 0.0, 1: 0.15054549887243213, 2: 0.8494545011275679}), (0, {0: 0.9999999999999999, 1: 0.0, 2: 0.0}), (0, {0: 1.0, 1: 0.0, 2: 0.0}), (0, {0: 1.0, 1: 0.0, 2: 0.0}), (2, {0: 0.0, 1: 0.0, 2: 0.9999999999999998}), (2, {0: 0.0, 1: 0.0, 2: 0.9999999999999998}), (2, {0: 0.0, 1: 0.0, 2: 1.0}), (0, {0: 1.0, 1: 0.0, 2: 0.0}), (1, {0: 0.0, 1: 0.9999999999999999, 2: 0.0}), (2, {0: 0.0, 1: 0.0, 2: 1.0}), (2, {0: 0.0, 1: 0.0, 2: 1.0}), (2, {0: 0.0, 1: 0.27792853424555697, 2: 0.7220714657544431}), (1, {0: 0.0, 1: 0.9892307692307691, 2: 0.010769230769230753})]\n",
      "0.9111111111111111\n"
     ]
    }
   ],
   "source": [
    "fuzzyknn = FuzzyKNN(k = 5)\n",
    "fuzzy_knn_classifier = {x : None for x in analysis.keys()}\n",
    "fuzzy_knn_classifier['K'] = '5'\n",
    "start_training_time = datetime.now()\n",
    "fuzzyknn.fit(x_train, y_train)\n",
    "end_training_time = datetime.now()\n",
    "fuzzy_knn_classifier['Training time'] = (end_training_time - start_training_time).total_seconds()\n",
    "\n",
    "start_prediction_time = datetime.now()\n",
    "y_pred = fuzzyknn.predict(x_test)\n",
    "end_prediction_time = datetime.now()\n",
    "fuzzy_knn_classifier['Prediction time'] = (end_prediction_time - start_prediction_time).total_seconds()\n",
    "\n",
    "print(y_pred)\n",
    "\n",
    "y_actual_pred = list()\n",
    "for (pred_class, fuzzy_membership_votes) in y_pred : \n",
    "    y_actual_pred.append(pred_class)\n",
    "score = accuracy_score(y_test, y_actual_pred)\n",
    "print(score)\n",
    "fuzzy_knn_classifier['Accuracy'] = score\n"
   ]
  },
  {
   "attachments": {},
   "cell_type": "markdown",
   "metadata": {},
   "source": [
    "The y_pred depicts the tuple - (predicted_class, fuzzy_membership_votes)\n",
    "where predicted_class is the class predicted for the datapoint and fuzzy_membership_votes shows the votes given by each of the k nearest neighbour"
   ]
  },
  {
   "attachments": {},
   "cell_type": "markdown",
   "metadata": {},
   "source": [
    "### AOC Curve depicting false and true positive rates"
   ]
  },
  {
   "cell_type": "code",
   "execution_count": 535,
   "metadata": {},
   "outputs": [
    {
     "data": {
      "image/png": "[encoded data removed]",
      "text/plain": [
       "<Figure size 432x288 with 1 Axes>"
      ]
     },
     "metadata": {
      "needs_background": "light"
     },
     "output_type": "display_data"
    }
   ],
   "source": [
    "import matplotlib.pyplot as plt\n",
    "import numpy as np\n",
    "from sklearn import metrics\n",
    "fpr, tpr, thresholds = metrics.roc_curve(y_test, y_actual_pred, pos_label=2)\n",
    "roc_auc = metrics.auc(fpr, tpr)\n",
    "fuzzy_knn_classifier['AOC'] = roc_auc\n",
    "display = metrics.RocCurveDisplay(fpr=fpr, tpr=tpr, roc_auc=roc_auc,estimator_name='baseline KNN')\n",
    "add_classifier(fuzzy_knn_classifier)\n",
    "display.plot()\n",
    "plt.show()"
   ]
  },
  {
   "attachments": {},
   "cell_type": "markdown",
   "metadata": {},
   "source": [
    "### K = 15"
   ]
  },
  {
   "cell_type": "code",
   "execution_count": 536,
   "metadata": {},
   "outputs": [
    {
     "name": "stdout",
     "output_type": "stream",
     "text": [
      "[(2, {0: 0.0, 1: 0.004253465578507544, 2: 0.9957465344214924}), (1, {0: 0.0, 1: 1.0, 2: 0.0}), (2, {0: 0.0, 1: 0.47843255439461846, 2: 0.5215674456053815}), (2, {0: 0.0, 1: 0.006058756335239761, 2: 0.9939412436647602}), (2, {0: 0.0, 1: 0.0, 2: 1.0}), (2, {0: 0.0, 1: 0.005704119144122908, 2: 0.9942958808558768}), (2, {0: 0.0, 1: 0.0518338538632207, 2: 0.9481661461367795}), (0, {0: 0.9999999999999998, 1: 0.0, 2: 0.0}), (0, {0: 1.0, 1: 0.0, 2: 0.0}), (2, {0: 0.0, 1: 0.16348657101578615, 2: 0.836513428984214}), (1, {0: 0.0, 1: 1.0, 2: 0.0}), (0, {0: 1.0, 1: 0.0, 2: 0.0}), (0, {0: 1.0000000000000002, 1: 0.0, 2: 0.0}), (0, {0: 0.9999999999999999, 1: 0.0, 2: 0.0}), (2, {0: 0.0, 1: 0.048143873629858225, 2: 0.9518561263701417}), (0, {0: 0.9999999999999999, 1: 0.0, 2: 0.0}), (0, {0: 0.9999999999999998, 1: 0.0, 2: 0.0}), (0, {0: 1.0, 1: 0.0, 2: 0.0}), (2, {0: 0.0, 1: 0.005280132417113909, 2: 0.9947198675828862}), (1, {0: 0.0, 1: 1.0, 2: 0.0}), (0, {0: 1.0000000000000002, 1: 0.0, 2: 0.0}), (2, {0: 0.0, 1: 0.004763503442647686, 2: 0.9952364965573526}), (1, {0: 0.0, 1: 0.9999999999999998, 2: 0.0}), (1, {0: 0.0, 1: 0.7637448432713584, 2: 0.2362551567286416}), (0, {0: 1.0, 1: 0.0, 2: 0.0}), (2, {0: 0.0, 1: 0.0, 2: 0.9999999999999998}), (2, {0: 0.0, 1: 0.0016218558028803134, 2: 0.9983781441971198}), (1, {0: 0.0, 1: 0.733295264629161, 2: 0.26670473537083916}), (1, {0: 0.0, 1: 0.8291073902429505, 2: 0.1708926097570495}), (1, {0: 0.0, 1: 1.0, 2: 0.0}), (2, {0: 0.0, 1: 0.0, 2: 1.0000000000000002}), (0, {0: nan, 1: nan, 2: nan}), (2, {0: 0.0, 1: 0.3270687823619059, 2: 0.672931217638094}), (0, {0: 0.9999999999999997, 1: 0.0, 2: 0.0}), (0, {0: 1.0, 1: 0.0, 2: 0.0}), (0, {0: 0.9999999999999998, 1: 0.0, 2: 0.0}), (2, {0: 0.0, 1: 0.0023170077768685216, 2: 0.9976829922231313}), (2, {0: 0.0, 1: 0.0008407153598367233, 2: 0.999159284640163}), (2, {0: 0.0, 1: 0.0071503219370987305, 2: 0.9928496780629011}), (0, {0: 1.0, 1: 0.0, 2: 0.0}), (1, {0: 0.0, 1: 0.9293513806896171, 2: 0.07064861931038283}), (2, {0: 0.0, 1: 0.007719197816814364, 2: 0.9922808021831858}), (2, {0: 0.0, 1: 0.0019676219662921835, 2: 0.9980323780337077}), (2, {0: 0.0, 1: 0.34689898554608306, 2: 0.653101014453917}), (1, {0: 0.0, 1: 0.8952317751537033, 2: 0.10476822484629641})]\n",
      "0.8888888888888888\n"
     ]
    }
   ],
   "source": [
    "fuzzyknn = FuzzyKNN(k = 10)\n",
    "fuzzy_knn_classifier = {x : None for x in analysis.keys()}\n",
    "fuzzy_knn_classifier['K'] = '15'\n",
    "start_training_time = datetime.now()\n",
    "fuzzyknn.fit(x_train, y_train)\n",
    "end_training_time = datetime.now()\n",
    "fuzzy_knn_classifier['Training time'] = (end_training_time - start_training_time).total_seconds()\n",
    "\n",
    "start_prediction_time = datetime.now()\n",
    "y_pred = fuzzyknn.predict(x_test)\n",
    "end_prediction_time = datetime.now()\n",
    "fuzzy_knn_classifier['Prediction time'] = (end_prediction_time - start_prediction_time).total_seconds()\n",
    "\n",
    "print(y_pred)\n",
    "\n",
    "y_actual_pred = list()\n",
    "for (pred_class, fuzzy_membership_votes) in y_pred : \n",
    "    y_actual_pred.append(pred_class)\n",
    "score = accuracy_score(y_test, y_actual_pred)\n",
    "print(score)\n",
    "fuzzy_knn_classifier['Accuracy'] = score\n"
   ]
  },
  {
   "cell_type": "code",
   "execution_count": 537,
   "metadata": {},
   "outputs": [
    {
     "data": {
      "image/png": "[encoded data removed]",
      "text/plain": [
       "<Figure size 432x288 with 1 Axes>"
      ]
     },
     "metadata": {
      "needs_background": "light"
     },
     "output_type": "display_data"
    }
   ],
   "source": [
    "import matplotlib.pyplot as plt\n",
    "import numpy as np\n",
    "from sklearn import metrics\n",
    "fpr, tpr, thresholds = metrics.roc_curve(y_test, y_actual_pred, pos_label=2)\n",
    "roc_auc = metrics.auc(fpr, tpr)\n",
    "fuzzy_knn_classifier['AOC'] = roc_auc\n",
    "display = metrics.RocCurveDisplay(fpr=fpr, tpr=tpr, roc_auc=roc_auc,estimator_name='baseline KNN')\n",
    "add_classifier(fuzzy_knn_classifier)\n",
    "display.plot()\n",
    "plt.show()"
   ]
  },
  {
   "attachments": {},
   "cell_type": "markdown",
   "metadata": {},
   "source": [
    "### K = 50"
   ]
  },
  {
   "cell_type": "code",
   "execution_count": 538,
   "metadata": {},
   "outputs": [
    {
     "name": "stdout",
     "output_type": "stream",
     "text": [
      "[(2, {0: 0.0, 1: 0.2841094380254613, 2: 0.7158905619745392}), (1, {0: 0.20459514052993877, 1: 0.6953738431474441, 2: 0.10003101632261727}), (2, {0: 0.0, 1: 0.49832475581137836, 2: 0.5016752441886214}), (2, {0: 0.0, 1: 0.33229505340288845, 2: 0.6677049465971117}), (2, {0: 0.0, 1: 0.22670533647598998, 2: 0.7732946635240101}), (2, {0: 0.0, 1: 0.30399669102091365, 2: 0.6960033089790866}), (2, {0: 0.0, 1: 0.3991087646189429, 2: 0.6008912353810574}), (0, {0: 0.8534004371562034, 1: 0.1451864169032939, 2: 0.0014131459405027737}), (0, {0: 0.8551587796244379, 1: 0.1436975633139488, 2: 0.001143657061613572}), (2, {0: 0.0, 1: 0.4072175084346145, 2: 0.5927824915653853}), (1, {0: 0.0009090675159289458, 1: 0.8000441948415421, 2: 0.19904673764252906}), (0, {0: 0.85736382336343, 1: 0.14181595508324085, 2: 0.0008202215533296714}), (0, {0: 0.8592058900017641, 1: 0.14025208527405295, 2: 0.000542024724183051}), (0, {0: 0.8410508143064159, 1: 0.15564249525980425, 2: 0.0033066904337802276}), (2, {0: 0.0, 1: 0.4361807065686736, 2: 0.5638192934313264}), (0, {0: 0.8529208890576061, 1: 0.1455954611625538, 2: 0.001483649779839922}), (0, {0: 0.8586097617806754, 1: 0.14075973802734681, 2: 0.000630500191977772}), (0, {0: 0.8572158597593377, 1: 0.14194751925857474, 2: 0.0008366209820875924}), (2, {0: 0.0, 1: 0.3068945140414102, 2: 0.6931054859585902}), (1, {0: 0.003875829583393246, 1: 0.8348646820608262, 2: 0.16125948835578077}), (0, {0: 0.8512707619523211, 1: 0.14700150320741515, 2: 0.0017277348402639251}), (2, {0: 0.0, 1: 0.3173546476339607, 2: 0.6826453523660396}), (1, {0: 0.12180773682658029, 1: 0.7856350943643546, 2: 0.09255716880906466}), (1, {0: 8.401503955310081e-05, 1: 0.6913096455220309, 2: 0.30860633943841576}), (0, {0: 0.8560902215155148, 1: 0.14290645722116746, 2: 0.001003321263318051}), (2, {0: 0.0, 1: 0.2510032083979436, 2: 0.7489967916020562}), (2, {0: 0.0, 1: 0.23008815379254752, 2: 0.7699118462074527}), (1, {0: 0.0, 1: 0.6720460089075664, 2: 0.3279539910924336}), (1, {0: 5.972756279747518e-05, 1: 0.6979877660094568, 2: 0.3019525064277459}), (1, {0: 0.002209866127679502, 1: 0.8116293341224341, 2: 0.18616079974988675}), (2, {0: 0.0, 1: 0.24942921168479612, 2: 0.7505707883152044}), (0, {0: nan, 1: nan, 2: nan}), (1, {0: 0.0, 1: 0.5238189439534068, 2: 0.47618105604659317}), (0, {0: 0.8565935443686654, 1: 0.14247088031515132, 2: 0.0009355753161830269}), (0, {0: 0.8532666275028722, 1: 0.14530794054718288, 2: 0.00142543194994535}), (0, {0: 0.8548746432911909, 1: 0.14394012248034965, 2: 0.0011852342284592963}), (2, {0: 0.0, 1: 0.2679104838292883, 2: 0.7320895161707115}), (2, {0: 0.0, 1: 0.23928181604932355, 2: 0.7607181839506759}), (2, {0: 0.0, 1: 0.2611382867986028, 2: 0.7388617132013969}), (0, {0: 0.8559432165829384, 1: 0.14302055980798734, 2: 0.0010362236090743764}), (1, {0: 0.0, 1: 0.6504547040250038, 2: 0.34954529597499595}), (2, {0: 0.0, 1: 0.2616035283756309, 2: 0.7383964716243695}), (2, {0: 0.0, 1: 0.2637761931480194, 2: 0.7362238068519803}), (1, {0: 0.0, 1: 0.5065130455260359, 2: 0.4934869544739645}), (1, {0: 0.0, 1: 0.718333715398286, 2: 0.28166628460171395})]\n",
      "0.9333333333333333\n"
     ]
    }
   ],
   "source": [
    "fuzzyknn = FuzzyKNN(k = 50)\n",
    "fuzzy_knn_classifier = {x : None for x in analysis.keys()}\n",
    "fuzzy_knn_classifier['K'] = '50'\n",
    "start_training_time = datetime.now()\n",
    "fuzzyknn.fit(x_train, y_train)\n",
    "end_training_time = datetime.now()\n",
    "fuzzy_knn_classifier['Training time'] = (end_training_time - start_training_time).total_seconds()\n",
    "\n",
    "start_prediction_time = datetime.now()\n",
    "y_pred = fuzzyknn.predict(x_test)\n",
    "end_prediction_time = datetime.now()\n",
    "fuzzy_knn_classifier['Prediction time'] = (end_prediction_time - start_prediction_time).total_seconds()\n",
    "\n",
    "print(y_pred)\n",
    "\n",
    "y_actual_pred = list()\n",
    "for (pred_class, fuzzy_membership_votes) in y_pred : \n",
    "    y_actual_pred.append(pred_class)\n",
    "score = accuracy_score(y_test, y_actual_pred)\n",
    "print(score)\n",
    "fuzzy_knn_classifier['Accuracy'] = score"
   ]
  },
  {
   "cell_type": "code",
   "execution_count": 539,
   "metadata": {},
   "outputs": [
    {
     "data": {
      "image/png": "[encoded data removed]",
      "text/plain": [
       "<Figure size 432x288 with 1 Axes>"
      ]
     },
     "metadata": {
      "needs_background": "light"
     },
     "output_type": "display_data"
    }
   ],
   "source": [
    "import matplotlib.pyplot as plt\n",
    "import numpy as np\n",
    "from sklearn import metrics\n",
    "fpr, tpr, thresholds = metrics.roc_curve(y_test, y_actual_pred, pos_label=2)\n",
    "roc_auc = metrics.auc(fpr, tpr)\n",
    "fuzzy_knn_classifier['AOC'] = roc_auc\n",
    "display = metrics.RocCurveDisplay(fpr=fpr, tpr=tpr, roc_auc=roc_auc,estimator_name='baseline KNN')\n",
    "add_classifier(fuzzy_knn_classifier)\n",
    "display.plot()\n",
    "plt.show()"
   ]
  },
  {
   "cell_type": "code",
   "execution_count": 540,
   "metadata": {},
   "outputs": [
    {
     "data": {
      "text/html": [
       "<div>\n",
       "<style scoped>\n",
       "    .dataframe tbody tr th:only-of-type {\n",
       "        vertical-align: middle;\n",
       "    }\n",
       "\n",
       "    .dataframe tbody tr th {\n",
       "        vertical-align: top;\n",
       "    }\n",
       "\n",
       "    .dataframe thead th {\n",
       "        text-align: right;\n",
       "    }\n",
       "</style>\n",
       "<table border=\"1\" class=\"dataframe\">\n",
       "  <thead>\n",
       "    <tr style=\"text-align: right;\">\n",
       "      <th></th>\n",
       "      <th>K</th>\n",
       "      <th>Training time</th>\n",
       "      <th>Prediction time</th>\n",
       "      <th>Accuracy</th>\n",
       "      <th>AOC</th>\n",
       "    </tr>\n",
       "  </thead>\n",
       "  <tbody>\n",
       "    <tr>\n",
       "      <th>0</th>\n",
       "      <td>5</td>\n",
       "      <td>0.364098</td>\n",
       "      <td>0.567126</td>\n",
       "      <td>0.911111</td>\n",
       "      <td>0.905462</td>\n",
       "    </tr>\n",
       "    <tr>\n",
       "      <th>1</th>\n",
       "      <td>15</td>\n",
       "      <td>0.392131</td>\n",
       "      <td>0.998609</td>\n",
       "      <td>0.888889</td>\n",
       "      <td>0.888655</td>\n",
       "    </tr>\n",
       "    <tr>\n",
       "      <th>2</th>\n",
       "      <td>50</td>\n",
       "      <td>0.461101</td>\n",
       "      <td>4.488000</td>\n",
       "      <td>0.933333</td>\n",
       "      <td>0.922269</td>\n",
       "    </tr>\n",
       "  </tbody>\n",
       "</table>\n",
       "</div>"
      ],
      "text/plain": [
       "    K  Training time  Prediction time  Accuracy       AOC\n",
       "0   5       0.364098         0.567126  0.911111  0.905462\n",
       "1  15       0.392131         0.998609  0.888889  0.888655\n",
       "2  50       0.461101         4.488000  0.933333  0.922269"
      ]
     },
     "execution_count": 540,
     "metadata": {},
     "output_type": "execute_result"
    }
   ],
   "source": [
    "analysis_df = pd.DataFrame(analysis)\n",
    "analysis_df"
   ]
  }
 ],
 "metadata": {
  "kernelspec": {
   "display_name": "base",
   "language": "python",
   "name": "python3"
  },
  "language_info": {
   "codemirror_mode": {
    "name": "ipython",
    "version": 3
   },
   "file_extension": ".py",
   "mimetype": "text/x-python",
   "name": "python",
   "nbconvert_exporter": "python",
   "pygments_lexer": "ipython3",
   "version": "3.8.8"
  },
  "orig_nbformat": 4
 },
 "nbformat": 4,
 "nbformat_minor": 2
}
