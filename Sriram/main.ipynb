{
 "cells": [
  {
   "cell_type": "code",
   "execution_count": 1,
   "id": "2ae0e809",
   "metadata": {},
   "outputs": [],
   "source": [
    "import numpy as np\n",
    "from sklearn.datasets import make_classification\n",
    "from sklearn.discriminant_analysis import LinearDiscriminantAnalysis\n",
    "from sklearn.model_selection import train_test_split"
   ]
  },
  {
   "cell_type": "code",
   "execution_count": 2,
   "id": "d1c35d2b",
   "metadata": {},
   "outputs": [],
   "source": [
    "def pso_lda(X, y, n_particles=50, n_iterations=200, w=0.7, c1=1.4, c2=1.4):\n",
    "    n_features = X.shape[1]\n",
    "    lb = np.ones(n_features) * -10\n",
    "    ub = np.ones(n_features) * 10\n",
    "    # Initialize particles\n",
    "    particles = np.random.uniform(low=lb, high=ub, size=(n_particles, n_features))\n",
    "    velocities = np.zeros((n_particles, n_features))\n",
    "    best_particle_positions = particles.copy()\n",
    "    best_particle_scores = np.zeros(n_particles)\n",
    "    global_best_particle_position = np.zeros(n_features)\n",
    "    global_best_particle_score = -np.inf\n",
    " \n",
    "    for i in range(n_iterations):\n",
    "        for j in range(n_particles):\n",
    "            # Evaluate score for current particle\n",
    "            mask = particles[j] > 0\n",
    "            selected_features = np.where(mask)[0]\n",
    "            if len(selected_features) == 0:\n",
    "                score = -np.inf\n",
    "            else:\n",
    "                X_selected = X[:, selected_features]\n",
    "                clf = LinearDiscriminantAnalysis()\n",
    "                clf.fit(X_selected, y)\n",
    "                score = clf.score(X_selected, y)\n",
    " \n",
    "            # Update best particle positions and scores\n",
    "            if score > best_particle_scores[j]:\n",
    "                best_particle_scores[j] = score\n",
    "                best_particle_positions[j] = particles[j]\n",
    " \n",
    "            if score > global_best_particle_score:\n",
    "                global_best_particle_score = score\n",
    "                global_best_particle_position = particles[j]\n",
    " \n",
    "            # Update velocities and particle positions\n",
    "            r1, r2 = np.random.rand(), np.random.rand()\n",
    "            velocities[j] = (w * velocities[j] +\n",
    "                             c1 * r1 * (best_particle_positions[j] - particles[j]) +\n",
    "                             c2 * r2 * (global_best_particle_position - particles[j]))\n",
    "            particles[j] = particles[j] + velocities[j]\n",
    "            particles[j] = np.clip(particles[j], lb, ub)\n",
    " \n",
    "    # Select best features\n",
    "    mask = global_best_particle_position > 0\n",
    "    selected_features = np.where(mask)[0]\n",
    " \n",
    "    if len(selected_features) == 0:\n",
    "        raise ValueError(\"PSO-LDA failed to select any features\")\n",
    " \n",
    "    X_selected = X[:, selected_features]\n",
    " \n",
    "    # Train LDA on selected features\n",
    "    clf = LinearDiscriminantAnalysis()\n",
    "    clf.fit(X_selected, y)\n",
    " \n",
    "    return clf, selected_features"
   ]
  },
  {
   "cell_type": "code",
   "execution_count": 3,
   "id": "095b735a",
   "metadata": {},
   "outputs": [],
   "source": [
    "# Generate a random classification dataset\n",
    "X, y = make_classification(n_samples=800, n_features=10, n_informative=5, n_redundant=0, n_clusters_per_class=1,\n",
    "                           random_state=42)\n",
    " "
   ]
  },
  {
   "cell_type": "code",
   "execution_count": 5,
   "id": "410f215c",
   "metadata": {},
   "outputs": [],
   "source": [
    "# Split dataset into training and testing sets\n",
    "split_idx = int(0.8 * len(X))\n",
    "X_train, y_train = X[:split_idx], y[:split_idx]\n",
    "X_test, y_test = X[split_idx:], y[split_idx:]"
   ]
  },
  {
   "cell_type": "code",
   "execution_count": 6,
   "id": "465dc10e",
   "metadata": {},
   "outputs": [],
   "source": [
    "# Run PSO-LDA feature selection on training set\n",
    "clf, selected_features = pso_lda(X_train, y_train)"
   ]
  },
  {
   "cell_type": "code",
   "execution_count": null,
   "id": "7647eb01",
   "metadata": {},
   "outputs": [],
   "source": []
  }
 ],
 "metadata": {
  "kernelspec": {
   "display_name": "Python 3",
   "language": "python",
   "name": "python3"
  },
  "language_info": {
   "codemirror_mode": {
    "name": "ipython",
    "version": 3
   },
   "file_extension": ".py",
   "mimetype": "text/x-python",
   "name": "python",
   "nbconvert_exporter": "python",
   "pygments_lexer": "ipython3",
   "version": "3.8.8"
  }
 },
 "nbformat": 4,
 "nbformat_minor": 5
}
