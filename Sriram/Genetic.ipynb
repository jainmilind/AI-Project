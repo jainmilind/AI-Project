{
 "cells": [
  {
   "cell_type": "code",
   "execution_count": 6,
   "metadata": {},
   "outputs": [],
   "source": [
    "import numpy as np\n",
    "from sklearn.datasets import load_iris\n",
    "from sklearn.neighbors import KNeighborsClassifier\n",
    "import matplotlib.pyplot as plt\n"
   ]
  },
  {
   "attachments": {},
   "cell_type": "markdown",
   "metadata": {},
   "source": [
    "### Load Iris dataset"
   ]
  },
  {
   "cell_type": "code",
   "execution_count": 7,
   "metadata": {},
   "outputs": [],
   "source": [
    "iris = load_iris()\n",
    "X = iris.data\n",
    "y = iris.target\n"
   ]
  },
  {
   "attachments": {},
   "cell_type": "markdown",
   "metadata": {},
   "source": [
    "### Define fitness function"
   ]
  },
  {
   "cell_type": "code",
   "execution_count": 8,
   "metadata": {},
   "outputs": [],
   "source": [
    " \n",
    "\n",
    "def predict_accuracy(individual):\n",
    "    # Extract features\n",
    "    features = []\n",
    "    for i in range(len(individual)):\n",
    "        if individual[i]:\n",
    "            features.append(i)\n",
    "    if len(features) == 0:\n",
    "        return 0\n",
    "    # Train KNN classifier\n",
    "    knn = KNeighborsClassifier(n_neighbors=5)\n",
    "    knn.fit(X[:, features], y)\n",
    "    # Calculate accuracy\n",
    "    accuracy = knn.score(X[:, features], y)\n",
    "    return accuracy\n"
   ]
  },
  {
   "attachments": {},
   "cell_type": "markdown",
   "metadata": {},
   "source": [
    "### Define genetic algorithm"
   ]
  },
  {
   "cell_type": "code",
   "execution_count": 9,
   "metadata": {},
   "outputs": [],
   "source": [
    " \n",
    "\n",
    "def genetic_algorithm(pop_size, num_generations, mutation_rate):\n",
    "    # Initialize population\n",
    "    population = np.random.randint(2, size=(pop_size, X.shape[1]))\n",
    "    # Iterate through generations\n",
    "    for generation in range(num_generations):\n",
    "        # Calculate fitness scores\n",
    "        fitness_scores = np.array([predict_accuracy(individual) for individual in population])\n",
    "        # Select parents\n",
    "        parent_indices = np.random.choice(pop_size, size=pop_size, replace=True, p=fitness_scores/fitness_scores.sum())\n",
    "        parents = population[parent_indices]\n",
    "        # Create offspring\n",
    "        offspring = np.zeros_like(parents)\n",
    "        for i in range(pop_size):\n",
    "            # Crossover\n",
    "            crossover_point = np.random.randint(X.shape[1])\n",
    "            offspring[i] = np.concatenate((parents[i, :crossover_point], parents[(i+1)%pop_size, crossover_point:]))\n",
    "            # Mutation\n",
    "            for j in range(X.shape[1]):\n",
    "                if np.random.rand() < mutation_rate:\n",
    "                    offspring[i, j] = 1 - offspring[i, j]\n",
    "        # Replace population with offspring\n",
    "        population = offspring\n",
    "    # Calculate final fitness scores\n",
    "    arr1 = []\n",
    "    for individual in population:\n",
    "        arr1.append(predict_accuracy(individual))\n",
    "    fitness_scores = np.array(arr1)\n",
    "\n",
    "    # fitness_scores = np.array([predict_accuracy(individual) for individual in population])\n",
    "    # Return individual with highest fitness score\n",
    "    return population[np.argmax(fitness_scores)]\n"
   ]
  },
  {
   "attachments": {},
   "cell_type": "markdown",
   "metadata": {},
   "source": [
    "### Run genetic algorithm"
   ]
  },
  {
   "cell_type": "code",
   "execution_count": 10,
   "metadata": {},
   "outputs": [
    {
     "name": "stdout",
     "output_type": "stream",
     "text": [
      "Best features: [0, 2, 3]\n",
      "Accuracy: 97.33%\n"
     ]
    }
   ],
   "source": [
    "best_individual = genetic_algorithm(pop_size=100, num_generations=100, mutation_rate=0.01)\n",
    "best_features = []\n",
    "for i in range(len(best_individual)):\n",
    "    if best_individual[i]:\n",
    "        best_features.append(i)\n",
    "# best_features = [i for i in range(len(best_individual)) if best_individual[i]]\n",
    "print(\"Best features: {}\".format(best_features))\n",
    "knn = KNeighborsClassifier(n_neighbors=5)\n",
    "knn.fit(X[:, best_features], y)\n",
    "print(\"Accuracy: {:.2f}%\".format(knn.score(X[:, best_features], y)*100))"
   ]
  }
 ],
 "metadata": {
  "kernelspec": {
   "display_name": "Python 3",
   "language": "python",
   "name": "python3"
  },
  "language_info": {
   "codemirror_mode": {
    "name": "ipython",
    "version": 3
   },
   "file_extension": ".py",
   "mimetype": "text/x-python",
   "name": "python",
   "nbconvert_exporter": "python",
   "pygments_lexer": "ipython3",
   "version": "3.9.6"
  },
  "orig_nbformat": 4
 },
 "nbformat": 4,
 "nbformat_minor": 2
}
