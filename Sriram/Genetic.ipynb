{
 "cells": [
  {
   "attachments": {},
   "cell_type": "markdown",
   "metadata": {},
   "source": [
    "### Importing necessary libraries"
   ]
  },
  {
   "cell_type": "code",
   "execution_count": 119,
   "metadata": {},
   "outputs": [],
   "source": [
    "import numpy as np\n",
    "from sklearn.datasets import load_wine\n",
    "from sklearn.neighbors import KNeighborsClassifier\n",
    "import matplotlib.pyplot as plt"
   ]
  },
  {
   "attachments": {},
   "cell_type": "markdown",
   "metadata": {},
   "source": [
    "### Load wine dataset"
   ]
  },
  {
   "cell_type": "code",
   "execution_count": 120,
   "metadata": {},
   "outputs": [],
   "source": [
    "wine = load_wine()\n",
    "feature_names = wine.feature_names\n",
    "X = wine.data\n",
    "y = wine.target"
   ]
  },
  {
   "attachments": {},
   "cell_type": "markdown",
   "metadata": {},
   "source": [
    "### Define fitness function"
   ]
  },
  {
   "cell_type": "code",
   "execution_count": 121,
   "metadata": {},
   "outputs": [],
   "source": [
    "def predict_accuracy(individual):\n",
    "    # Extract features\n",
    "    features = []\n",
    "    for i in range(len(individual)):\n",
    "        if individual[i]:\n",
    "            features.append(i)\n",
    "    if len(features) == 0:\n",
    "        return 0\n",
    "    # Train KNN classifier\n",
    "    knn = KNeighborsClassifier(n_neighbors=5)\n",
    "    knn.fit(X[:, features], y)\n",
    "    # Calculate accuracy\n",
    "    accuracy = knn.score(X[:, features], y)\n",
    "    return accuracy\n"
   ]
  },
  {
   "attachments": {},
   "cell_type": "markdown",
   "metadata": {},
   "source": [
    "### Define plotting fitness"
   ]
  },
  {
   "cell_type": "code",
   "execution_count": 122,
   "metadata": {},
   "outputs": [],
   "source": [
    "def plot_fitness(fitness_scores):\n",
    "    x = [i + 1 for i in range(len(fitness_scores))]\n",
    "    y = fitness_scores\n",
    "\n",
    "    plt.plot(x, y)\n",
    "    plt.xlabel('Generation')\n",
    "    plt.ylabel('Fitness')\n",
    "    plt.title('Generation Vs Best Population Fitness')\n",
    "    plt.show()"
   ]
  },
  {
   "attachments": {},
   "cell_type": "markdown",
   "metadata": {},
   "source": [
    "### Define genetic algorithm"
   ]
  },
  {
   "cell_type": "code",
   "execution_count": 123,
   "metadata": {},
   "outputs": [],
   "source": [
    "def genetic_algorithm(pop_size, num_generations, mutation_rate):\n",
    "\n",
    "    # Tells fitness scores of best population in each generation\n",
    "    best_fitness = list()\n",
    "\n",
    "    # Initialize population\n",
    "    population = np.random.randint(2, size=(pop_size, X.shape[1]))\n",
    "\n",
    "    # Iterate through generations\n",
    "    for generation in range(num_generations):\n",
    "        # Calculate fitness scores\n",
    "        fitness_scores = np.array([predict_accuracy(individual) for individual in population])\n",
    "        \n",
    "        # Append accuracy of population with best fitness score in this generation\n",
    "        best_fitness.append(max(fitness_scores))\n",
    "\n",
    "        # Select parents\n",
    "        parent_indices = np.random.choice(pop_size, size=pop_size, replace=True, p=fitness_scores/fitness_scores.sum())\n",
    "        parents = population[parent_indices]\n",
    "        \n",
    "        # Create offspring\n",
    "        offspring = np.zeros_like(parents)\n",
    "        \n",
    "        for i in range(pop_size):\n",
    "            # Crossover\n",
    "            crossover_point = np.random.randint(X.shape[1])\n",
    "            offspring[i] = np.concatenate((parents[i, :crossover_point], parents[(i+1)%pop_size, crossover_point:]))\n",
    "            \n",
    "            # Mutation\n",
    "            for j in range(X.shape[1]):\n",
    "                if np.random.rand() < mutation_rate:\n",
    "                    offspring[i, j] = 1 - offspring[i, j]\n",
    "        \n",
    "        # Replace population with offspring\n",
    "        population = offspring\n",
    "    \n",
    "    # Calculate list of final fitness scores\n",
    "    fitness_scores = np.array([predict_accuracy(individual) for individual in population])\n",
    "    best_fitness.append(max(fitness_scores))\n",
    "    \n",
    "    plot_fitness(best_fitness)\n",
    "    # Return individual with highest fitness score\n",
    "    return population[np.argmax(fitness_scores)]\n"
   ]
  },
  {
   "attachments": {},
   "cell_type": "markdown",
   "metadata": {},
   "source": [
    "### Run genetic algorithm"
   ]
  },
  {
   "cell_type": "code",
   "execution_count": 124,
   "metadata": {},
   "outputs": [
    {
     "data": {
      "image/png": "[encoded data removed]",
      "text/plain": [
       "<Figure size 432x288 with 1 Axes>"
      ]
     },
     "metadata": {
      "needs_background": "light"
     },
     "output_type": "display_data"
    },
    {
     "name": "stdout",
     "output_type": "stream",
     "text": [
      "Best features: ['alcohol', 'alcalinity_of_ash', 'flavanoids', 'nonflavanoid_phenols', 'proanthocyanins', 'color_intensity', 'hue', 'od280/od315_of_diluted_wines']\n",
      "Accuracy: 97.19%\n"
     ]
    }
   ],
   "source": [
    "best_individual = genetic_algorithm(pop_size=100, num_generations=100, mutation_rate=0.01)\n",
    "best_features = list()\n",
    "\n",
    "for i in range(len(best_individual)):\n",
    "    if best_individual[i]:\n",
    "        best_features.append(i)\n",
    "\n",
    "print(f\"Best features: {[feature_names[i] for i in best_features]}\")\n",
    "\n",
    "knn = KNeighborsClassifier(n_neighbors=5)\n",
    "knn.fit(X[:, best_features], y)\n",
    "print(\"Accuracy: {:.2f}%\".format(knn.score(X[:, best_features], y)*100))"
   ]
  },
  {
   "attachments": {},
   "cell_type": "markdown",
   "metadata": {},
   "source": [
    "### As we can see that Fitness score majorly increases with generations although there are some mutations so sometimes fitness scores drops "
   ]
  }
 ],
 "metadata": {
  "kernelspec": {
   "display_name": "Python 3",
   "language": "python",
   "name": "python3"
  },
  "language_info": {
   "codemirror_mode": {
    "name": "ipython",
    "version": 3
   },
   "file_extension": ".py",
   "mimetype": "text/x-python",
   "name": "python",
   "nbconvert_exporter": "python",
   "pygments_lexer": "ipython3",
   "version": "3.8.8"
  },
  "orig_nbformat": 4
 },
 "nbformat": 4,
 "nbformat_minor": 2
}
