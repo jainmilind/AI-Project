{
 "cells": [
  {
   "attachments": {},
   "cell_type": "markdown",
   "metadata": {},
   "source": [
    "### Importing necessary libraries"
   ]
  },
  {
   "cell_type": "code",
   "execution_count": 187,
   "metadata": {},
   "outputs": [],
   "source": [
    "import numpy as np\n",
    "from sklearn.discriminant_analysis import LinearDiscriminantAnalysis\n",
    "from sklearn.model_selection import train_test_split\n",
    "import pandas as pd\n",
    "import warnings\n",
    "warnings.filterwarnings('ignore')"
   ]
  },
  {
   "attachments": {},
   "cell_type": "markdown",
   "metadata": {},
   "source": [
    "### PSOLDA class"
   ]
  },
  {
   "cell_type": "code",
   "execution_count": 188,
   "metadata": {},
   "outputs": [],
   "source": [
    "def pso_lda(X, y, n_particles=50, n_iterations=200, w=0.7, c1=1.4, c2=1.4):\n",
    "    n_features = X.shape[1]\n",
    "    lb = np.ones(n_features) * -10\n",
    "    ub = np.ones(n_features) * 10\n",
    "    # Initialize particles\n",
    "    particles = np.random.uniform(low=lb, high=ub, size=(n_particles, n_features))\n",
    "    velocities = np.zeros((n_particles, n_features))\n",
    "    best_particle_positions = particles.copy()\n",
    "    best_particle_scores = np.zeros(n_particles)\n",
    "    global_best_particle_position = np.zeros(n_features)\n",
    "    global_best_particle_score = -np.inf\n",
    "\n",
    "    for i in range(n_iterations):\n",
    "        for j in range(n_particles):\n",
    "            # Evaluate score for current particle\n",
    "            mask = particles[j] > 0\n",
    "            selected_features = np.where(mask)[0]\n",
    "            if len(selected_features) == 0:\n",
    "                score = -np.inf\n",
    "            else:\n",
    "                X_selected = X[:, selected_features]\n",
    "                clf = LinearDiscriminantAnalysis()\n",
    "                clf.fit(X_selected, y)\n",
    "                score = clf.score(X_selected, y)\n",
    "\n",
    "            # Update best particle positions and scores\n",
    "            if score > best_particle_scores[j]:\n",
    "                best_particle_scores[j] = score\n",
    "                best_particle_positions[j] = particles[j]\n",
    "\n",
    "            if score > global_best_particle_score:\n",
    "                global_best_particle_score = score\n",
    "                global_best_particle_position = particles[j]\n",
    "\n",
    "            # Update velocities and particle positions\n",
    "            r1, r2 = np.random.rand(), np.random.rand()\n",
    "            velocities[j] = (w * velocities[j] +\n",
    "                             c1 * r1 * (best_particle_positions[j] - particles[j]) +\n",
    "                             c2 * r2 * (global_best_particle_position - particles[j]))\n",
    "            particles[j] = particles[j] + velocities[j]\n",
    "            particles[j] = np.clip(particles[j], lb, ub)\n",
    "\n",
    "    # Select best features\n",
    "    mask = global_best_particle_position > 0\n",
    "    selected_features = np.where(mask)[0]\n",
    "\n",
    "    if len(selected_features) == 0:\n",
    "        raise ValueError(\"PSO-LDA failed to select any features\")\n",
    "\n",
    "    X_selected = X[:, selected_features]\n",
    "\n",
    "    # Train LDA on selected features\n",
    "    clf = LinearDiscriminantAnalysis()\n",
    "    clf.fit(X_selected, y)\n",
    "\n",
    "    return clf, selected_features\n"
   ]
  },
  {
   "attachments": {},
   "cell_type": "markdown",
   "metadata": {},
   "source": [
    "### Reading data from csv and storing in dataframe"
   ]
  },
  {
   "cell_type": "code",
   "execution_count": 189,
   "metadata": {},
   "outputs": [],
   "source": [
    "# Generate a random classification dataset\n",
    "df = pd.read_csv('../datasets/sonar_csv.csv')"
   ]
  },
  {
   "attachments": {},
   "cell_type": "markdown",
   "metadata": {},
   "source": [
    "#### X, Y split\n"
   ]
  },
  {
   "cell_type": "code",
   "execution_count": 190,
   "metadata": {},
   "outputs": [],
   "source": [
    "x_df = df.iloc[:, :-1]\n",
    "y_df = df.iloc[:, -1:]"
   ]
  },
  {
   "attachments": {},
   "cell_type": "markdown",
   "metadata": {},
   "source": [
    "#### Mapping y_df to integers"
   ]
  },
  {
   "cell_type": "code",
   "execution_count": 191,
   "metadata": {},
   "outputs": [],
   "source": [
    "mapping = dict()\n",
    "cnt = 0\n",
    "for i in y_df['Class'].unique():\n",
    "    if mapping.get(i) == None:\n",
    "        mapping[i] = cnt\n",
    "        cnt += 1\n",
    "y_df['Class'] = y_df['Class'].map(mapping)"
   ]
  },
  {
   "attachments": {},
   "cell_type": "markdown",
   "metadata": {},
   "source": [
    "#### Converting X, y to numpy array "
   ]
  },
  {
   "cell_type": "code",
   "execution_count": 192,
   "metadata": {},
   "outputs": [
    {
     "data": {
      "text/plain": [
       "((208, 60), (208,))"
      ]
     },
     "execution_count": 192,
     "metadata": {},
     "output_type": "execute_result"
    }
   ],
   "source": [
    "x_df = x_df.to_numpy()\n",
    "y_df = y_df.to_numpy().reshape((y_df.shape[0], ))\n",
    "x_df.shape, y_df.shape"
   ]
  },
  {
   "attachments": {},
   "cell_type": "markdown",
   "metadata": {},
   "source": [
    "#### Splitting in training and testing "
   ]
  },
  {
   "cell_type": "code",
   "execution_count": 193,
   "metadata": {},
   "outputs": [],
   "source": [
    "X_train, X_test, y_train, y_test = train_test_split(x_df, y_df, test_size=0.2, random_state=15)"
   ]
  },
  {
   "attachments": {},
   "cell_type": "markdown",
   "metadata": {},
   "source": [
    "### Run PSO-LDA feature selection on training set"
   ]
  },
  {
   "cell_type": "code",
   "execution_count": 194,
   "metadata": {},
   "outputs": [],
   "source": [
    "clf, selected_features = pso_lda(X_train, y_train)\n"
   ]
  },
  {
   "attachments": {},
   "cell_type": "markdown",
   "metadata": {},
   "source": [
    "#### Test classifier on test set using only selected features from dataset"
   ]
  },
  {
   "cell_type": "code",
   "execution_count": 195,
   "metadata": {},
   "outputs": [],
   "source": [
    "\n",
    "X_test_selected = X_test[:, selected_features]\n",
    "test_score = clf.score(X_test_selected, y_test)\n"
   ]
  },
  {
   "attachments": {},
   "cell_type": "markdown",
   "metadata": {},
   "source": [
    "### Initialize LDA model and fit to data and make prediction on test data"
   ]
  },
  {
   "cell_type": "code",
   "execution_count": 196,
   "metadata": {},
   "outputs": [],
   "source": [
    "lda = LinearDiscriminantAnalysis()\n",
    "lda.fit(X_train, y_train)\n",
    "y_pred = lda.predict(X_test)"
   ]
  },
  {
   "attachments": {},
   "cell_type": "markdown",
   "metadata": {},
   "source": [
    "### Evaluating accuracy of predictions with and without PSOLDA"
   ]
  },
  {
   "cell_type": "code",
   "execution_count": 197,
   "metadata": {},
   "outputs": [
    {
     "name": "stdout",
     "output_type": "stream",
     "text": [
      "Test score without PSOLDA: 0.6904761904761905\n",
      "Selected features: [1, 3, 8, 11, 15, 16, 18, 22, 23, 24, 25, 27, 28, 29, 30, 34, 35, 36, 37, 38, 39, 40, 42, 43, 44, 48, 49, 50, 52, 54, 57, 58, 59]\n",
      "Test score: 0.7857142857142857\n"
     ]
    }
   ],
   "source": [
    "accuracy = lda.score(X_test, y_test)\n",
    "print(\"Test score without PSOLDA:\", accuracy)\n",
    "\n",
    "print(\"Selected features:\", list(selected_features))\n",
    "print(\"Test score:\", test_score)"
   ]
  },
  {
   "attachments": {},
   "cell_type": "markdown",
   "metadata": {},
   "source": [
    "## As we can see from above example PSOLDA performs much better than traditional LDA"
   ]
  }
 ],
 "metadata": {
  "kernelspec": {
   "display_name": "Python 3",
   "language": "python",
   "name": "python3"
  },
  "language_info": {
   "codemirror_mode": {
    "name": "ipython",
    "version": 3
   },
   "file_extension": ".py",
   "mimetype": "text/x-python",
   "name": "python",
   "nbconvert_exporter": "python",
   "pygments_lexer": "ipython3",
   "version": "3.8.8"
  },
  "orig_nbformat": 4
 },
 "nbformat": 4,
 "nbformat_minor": 2
}
