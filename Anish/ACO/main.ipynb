{
 "cells": [
  {
   "attachments": {},
   "cell_type": "markdown",
   "metadata": {},
   "source": [
    "### Importing Necessary Libraries"
   ]
  },
  {
   "cell_type": "code",
   "execution_count": 5,
   "metadata": {},
   "outputs": [],
   "source": [
    "import numpy as np\n",
    "import pandas as pd\n",
    "from sklearn.datasets import load_breast_cancer\n",
    "from sklearn.model_selection import train_test_split\n",
    "from sklearn.neighbors import KNeighborsClassifier"
   ]
  },
  {
   "attachments": {},
   "cell_type": "markdown",
   "metadata": {},
   "source": [
    "### Loading and Splitting the dataset into train and test"
   ]
  },
  {
   "cell_type": "code",
   "execution_count": 6,
   "metadata": {},
   "outputs": [],
   "source": [
    "data = load_breast_cancer()\n",
    "X = data.data\n",
    "y = data.target\n",
    "df = pd.DataFrame(data=data.data, columns=data.feature_names)\n",
    "column_names = list(df.columns.values)\n",
    "X_train, X_test, y_train, y_test = train_test_split(X, y, test_size=0.3, random_state=14)"
   ]
  },
  {
   "attachments": {},
   "cell_type": "markdown",
   "metadata": {},
   "source": [
    "### Definition of ACO function"
   ]
  },
  {
   "cell_type": "code",
   "execution_count": 7,
   "metadata": {},
   "outputs": [],
   "source": [
    "def ACO(X_train, X_test, y_train, y_test, ants, iterations):\n",
    "    features = X_train.shape[1]\n",
    "    # Initialize the pheromone matrix\n",
    "    pheromone = np.ones(features)\n",
    "    # Define the parameters of the algorithm\n",
    "    alpha = 1.0 # Pheromone importance\n",
    "    beta = 2.0 # Heuristic importance\n",
    "    rho = 0.5 # Pheromone evaporation rate\n",
    "    # Define the fitness function\n",
    "    def fitness(X_train, X_test, y_train, y_test, mask):\n",
    "        clf = KNeighborsClassifier(n_neighbors=3)\n",
    "        clf.fit(X_train[:, np.ravel(mask)], y_train)\n",
    "        return clf.score(X_test[:, np.ravel(mask)], y_test)\n",
    "    # Iterate through the algorithm\n",
    "    for i in range(iterations):\n",
    "        # Generate the ant solutions\n",
    "        solutions = []\n",
    "        for j in range(ants):\n",
    "            mask = np.full(features, False, dtype=bool)\n",
    "            for k in range(features):\n",
    "                # Calculate the probabilities for each feature\n",
    "                prob = pheromone[k]**alpha * (1.0 / (1.0 + np.exp(-beta * X_train[:,k])))\n",
    "                # Select the feature based on the probabilities\n",
    "                mask[k] = np.random.choice(a=[True, False], p = [prob[k],1-prob[k]])\n",
    "            solutions.append(mask)\n",
    "        # Update the pheromone matrix\n",
    "        for j in range(ants):\n",
    "            mask = solutions[j]\n",
    "            fitness_j = fitness(X_train, X_test, y_train, y_test, mask)\n",
    "            for k in range(features):\n",
    "                if mask[k]:\n",
    "                    pheromone[k] = (1.0 - rho) * pheromone[k] + rho * fitness_j\n",
    "                else:\n",
    "                    pheromone[k] = (1.0 - rho) * pheromone[k]\n",
    "    best_mask = solutions[0]\n",
    "    best_fitness = fitness(X_train, X_test, y_train, y_test, best_mask)\n",
    "    for mask in solutions[1:]:\n",
    "        fitness_i = fitness(X_train, X_test, y_train, y_test, mask)\n",
    "        if fitness_i > best_fitness:\n",
    "            best_mask = mask\n",
    "            best_fitness = fitness_i\n",
    "    return best_mask, best_fitness"
   ]
  },
  {
   "attachments": {},
   "cell_type": "markdown",
   "metadata": {},
   "source": [
    "### Test the ACO function and print results"
   ]
  },
  {
   "cell_type": "code",
   "execution_count": 12,
   "metadata": {},
   "outputs": [
    {
     "name": "stdout",
     "output_type": "stream",
     "text": [
      "All features: ['mean radius', 'mean texture', 'mean perimeter', 'mean area', 'mean smoothness', 'mean compactness', 'mean concavity', 'mean concave points', 'mean symmetry', 'mean fractal dimension', 'radius error', 'texture error', 'perimeter error', 'area error', 'smoothness error', 'compactness error', 'concavity error', 'concave points error', 'symmetry error', 'fractal dimension error', 'worst radius', 'worst texture', 'worst perimeter', 'worst area', 'worst smoothness', 'worst compactness', 'worst concavity', 'worst concave points', 'worst symmetry', 'worst fractal dimension']\n",
      "Selected features: ['mean radius', 'texture error', 'worst radius']\n",
      "Accuracy: 0.935672514619883\n"
     ]
    }
   ],
   "source": [
    "ants = 10\n",
    "iterations = 10\n",
    "best_mask, best_fitness = ACO(X_train, X_test, y_train, y_test, ants, iterations)\n",
    "selected_features=[]\n",
    "for i in range(len(best_mask)):\n",
    "    if(best_mask[i]==True):\n",
    "        selected_features.append(column_names[i])\n",
    "print(\"All features:\", column_names)\n",
    "print(\"Selected features:\", selected_features)\n",
    "print(\"Accuracy:\", best_fitness)"
   ]
  }
 ],
 "metadata": {
  "kernelspec": {
   "display_name": "base",
   "language": "python",
   "name": "python3"
  },
  "language_info": {
   "codemirror_mode": {
    "name": "ipython",
    "version": 3
   },
   "file_extension": ".py",
   "mimetype": "text/x-python",
   "name": "python",
   "nbconvert_exporter": "python",
   "pygments_lexer": "ipython3",
   "version": "3.11.0"
  },
  "orig_nbformat": 4
 },
 "nbformat": 4,
 "nbformat_minor": 2
}
